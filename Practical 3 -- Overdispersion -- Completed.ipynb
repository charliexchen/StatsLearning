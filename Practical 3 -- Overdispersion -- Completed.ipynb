{
 "cells": [
  {
   "cell_type": "markdown",
   "metadata": {},
   "source": [
    "Let's try to generate some poisson data."
   ]
  },
  {
   "cell_type": "code",
   "execution_count": 2,
   "metadata": {
    "collapsed": true
   },
   "outputs": [],
   "source": [
    "set.seed(2018)\n",
    "x = rgamma(50,3,2)\n",
    "z = rgamma(50,1,2)\n",
    "Y = rpois(50, lambda=exp(x+z))"
   ]
  },
  {
   "cell_type": "markdown",
   "metadata": {},
   "source": [
    "Now lets try to fit some data, first with with the correct model and then with one which misses out the latent variables."
   ]
  },
  {
   "cell_type": "code",
   "execution_count": 3,
   "metadata": {
    "collapsed": true
   },
   "outputs": [],
   "source": [
    "mod1 <- glm(Y ~ x+z, family=poisson)\n",
    "mod2 <- glm(Y ~ x, family=poisson)"
   ]
  },
  {
   "cell_type": "markdown",
   "metadata": {},
   "source": [
    "Let's have a look at the confidence intervals of the estimated parameters."
   ]
  },
  {
   "cell_type": "code",
   "execution_count": 5,
   "metadata": {},
   "outputs": [
    {
     "data": {
      "text/plain": [
       "\n",
       "Call:\n",
       "glm(formula = Y ~ x + z, family = poisson)\n",
       "\n",
       "Deviance Residuals: \n",
       "    Min       1Q   Median       3Q      Max  \n",
       "-2.3898  -0.8733  -0.0021   0.4891   3.2090  \n",
       "\n",
       "Coefficients:\n",
       "            Estimate Std. Error z value Pr(>|z|)    \n",
       "(Intercept) -0.02583    0.13466  -0.192    0.848    \n",
       "x            0.99835    0.03837  26.022   <2e-16 ***\n",
       "z            1.12716    0.08792  12.820   <2e-16 ***\n",
       "---\n",
       "Signif. codes:  0 '***' 0.001 '**' 0.01 '*' 0.05 '.' 0.1 ' ' 1\n",
       "\n",
       "(Dispersion parameter for poisson family taken to be 1)\n",
       "\n",
       "    Null deviance: 745.616  on 49  degrees of freedom\n",
       "Residual deviance:  64.341  on 47  degrees of freedom\n",
       "AIC: 255.01\n",
       "\n",
       "Number of Fisher Scoring iterations: 4\n"
      ]
     },
     "metadata": {},
     "output_type": "display_data"
    },
    {
     "data": {
      "text/plain": [
       "\n",
       "Call:\n",
       "glm(formula = Y ~ x, family = poisson)\n",
       "\n",
       "Deviance Residuals: \n",
       "    Min       1Q   Median       3Q      Max  \n",
       "-3.2141  -1.5792  -1.0401   0.9351   5.4138  \n",
       "\n",
       "Coefficients:\n",
       "            Estimate Std. Error z value Pr(>|z|)    \n",
       "(Intercept)  0.98221    0.08765   11.21   <2e-16 ***\n",
       "x            0.80559    0.03202   25.16   <2e-16 ***\n",
       "---\n",
       "Signif. codes:  0 '***' 0.001 '**' 0.01 '*' 0.05 '.' 0.1 ' ' 1\n",
       "\n",
       "(Dispersion parameter for poisson family taken to be 1)\n",
       "\n",
       "    Null deviance: 745.62  on 49  degrees of freedom\n",
       "Residual deviance: 213.57  on 48  degrees of freedom\n",
       "AIC: 402.24\n",
       "\n",
       "Number of Fisher Scoring iterations: 5\n"
      ]
     },
     "metadata": {},
     "output_type": "display_data"
    }
   ],
   "source": [
    "summary (mod1)\n",
    "summary (mod2)"
   ]
  },
  {
   "cell_type": "code",
   "execution_count": 27,
   "metadata": {},
   "outputs": [
    {
     "data": {
      "text/html": [
       "<dl class=dl-horizontal>\n",
       "\t<dt>(Intercept)</dt>\n",
       "\t\t<dd>-0.0258250437879155</dd>\n",
       "\t<dt>x</dt>\n",
       "\t\t<dd>0.998350238502566</dd>\n",
       "\t<dt>z</dt>\n",
       "\t\t<dd>1.12716079656223</dd>\n",
       "</dl>\n"
      ],
      "text/latex": [
       "\\begin{description*}\n",
       "\\item[(Intercept)] -0.0258250437879155\n",
       "\\item[x] 0.998350238502566\n",
       "\\item[z] 1.12716079656223\n",
       "\\end{description*}\n"
      ],
      "text/markdown": [
       "(Intercept)\n",
       ":   -0.0258250437879155x\n",
       ":   0.998350238502566z\n",
       ":   1.12716079656223\n",
       "\n"
      ],
      "text/plain": [
       "(Intercept)           x           z \n",
       "-0.02582504  0.99835024  1.12716080 "
      ]
     },
     "metadata": {},
     "output_type": "display_data"
    },
    {
     "data": {
      "text/html": [
       "<table>\n",
       "<tbody>\n",
       "\t<tr><th scope=row>(Intercept)</th><td>-0.2897571</td><td>0.238107  </td></tr>\n",
       "\t<tr><th scope=row>x</th><td> 0.9231548</td><td>1.073546  </td></tr>\n",
       "\t<tr><th scope=row>z</th><td> 0.9548362</td><td>1.299485  </td></tr>\n",
       "</tbody>\n",
       "</table>\n"
      ],
      "text/latex": [
       "\\begin{tabular}{r|ll}\n",
       "\t(Intercept) & -0.2897571 & 0.238107  \\\\\n",
       "\tx &  0.9231548 & 1.073546  \\\\\n",
       "\tz &  0.9548362 & 1.299485  \\\\\n",
       "\\end{tabular}\n"
      ],
      "text/markdown": [
       "\n",
       "| (Intercept) | -0.2897571 | 0.238107   | \n",
       "| x |  0.9231548 | 1.073546   | \n",
       "| z |  0.9548362 | 1.299485   | \n",
       "\n",
       "\n"
      ],
      "text/plain": [
       "            [,1]       [,2]    \n",
       "(Intercept) -0.2897571 0.238107\n",
       "x            0.9231548 1.073546\n",
       "z            0.9548362 1.299485"
      ]
     },
     "metadata": {},
     "output_type": "display_data"
    },
    {
     "data": {
      "text/html": [
       "<dl class=dl-horizontal>\n",
       "\t<dt>(Intercept)</dt>\n",
       "\t\t<dd>0.982211185519317</dd>\n",
       "\t<dt>x</dt>\n",
       "\t\t<dd>0.805590714110265</dd>\n",
       "</dl>\n"
      ],
      "text/latex": [
       "\\begin{description*}\n",
       "\\item[(Intercept)] 0.982211185519317\n",
       "\\item[x] 0.805590714110265\n",
       "\\end{description*}\n"
      ],
      "text/markdown": [
       "(Intercept)\n",
       ":   0.982211185519317x\n",
       ":   0.805590714110265\n",
       "\n"
      ],
      "text/plain": [
       "(Intercept)           x \n",
       "  0.9822112   0.8055907 "
      ]
     },
     "metadata": {},
     "output_type": "display_data"
    },
    {
     "data": {
      "text/html": [
       "<table>\n",
       "<tbody>\n",
       "\t<tr><th scope=row>(Intercept)</th><td>0.8104110</td><td>1.1540114</td></tr>\n",
       "\t<tr><th scope=row>x</th><td>0.7428289</td><td>0.8683525</td></tr>\n",
       "</tbody>\n",
       "</table>\n"
      ],
      "text/latex": [
       "\\begin{tabular}{r|ll}\n",
       "\t(Intercept) & 0.8104110 & 1.1540114\\\\\n",
       "\tx & 0.7428289 & 0.8683525\\\\\n",
       "\\end{tabular}\n"
      ],
      "text/markdown": [
       "\n",
       "| (Intercept) | 0.8104110 | 1.1540114 | \n",
       "| x | 0.7428289 | 0.8683525 | \n",
       "\n",
       "\n"
      ],
      "text/plain": [
       "            [,1]      [,2]     \n",
       "(Intercept) 0.8104110 1.1540114\n",
       "x           0.7428289 0.8683525"
      ]
     },
     "metadata": {},
     "output_type": "display_data"
    }
   ],
   "source": [
    "coef1 <- summary(mod1)$coefficients\n",
    "coef2 <- summary(mod2)$coefficients\n",
    "coef1[,1]\n",
    "coef1[,1] + 1.96*cbind(-coef1[,2], coef1[,2])\n",
    "coef2[,1]\n",
    "coef2[,1] + 1.96*cbind(-coef2[,2], coef2[,2])\n"
   ]
  },
  {
   "cell_type": "markdown",
   "metadata": {},
   "source": [
    "Note that in the second case, the confidence intervals do not cover the true value. This is not unexpected, since we have missed valuable information.\n",
    "\n",
    "The outcome will vary much more than expected -- there is overdispersion. Let's try to fit a quasipoisson model instead.\n",
    "\n",
    "The quasipoisson model has larger errors, but the same parameter estimates.\n",
    "\n",
    "The ratio is exactly the square root of the dispersion parameter."
   ]
  },
  {
   "cell_type": "code",
   "execution_count": 26,
   "metadata": {},
   "outputs": [
    {
     "data": {
      "text/plain": [
       "\n",
       "Call:\n",
       "glm(formula = Y ~ x, family = quasipoisson)\n",
       "\n",
       "Deviance Residuals: \n",
       "    Min       1Q   Median       3Q      Max  \n",
       "-3.2141  -1.5792  -1.0401   0.9351   5.4138  \n",
       "\n",
       "Coefficients:\n",
       "            Estimate Std. Error t value Pr(>|t|)    \n",
       "(Intercept)  0.98221    0.19784   4.965 9.09e-06 ***\n",
       "x            0.80559    0.07227  11.146 6.44e-15 ***\n",
       "---\n",
       "Signif. codes:  0 '***' 0.001 '**' 0.01 '*' 0.05 '.' 0.1 ' ' 1\n",
       "\n",
       "(Dispersion parameter for quasipoisson family taken to be 5.094278)\n",
       "\n",
       "    Null deviance: 745.62  on 49  degrees of freedom\n",
       "Residual deviance: 213.57  on 48  degrees of freedom\n",
       "AIC: NA\n",
       "\n",
       "Number of Fisher Scoring iterations: 5\n"
      ]
     },
     "metadata": {},
     "output_type": "display_data"
    }
   ],
   "source": [
    "mod3 <- glm(Y ~ x, family=quasipoisson)\n",
    "summary(mod3)"
   ]
  },
  {
   "cell_type": "markdown",
   "metadata": {},
   "source": [
    "Let's try to generate some data and have a look at the coverage of the parameter estimates (we generate data, check if it is in the coverage and then work out the proportion which is inside)"
   ]
  },
  {
   "cell_type": "code",
   "execution_count": 36,
   "metadata": {},
   "outputs": [
    {
     "data": {
      "text/html": [
       "0.854"
      ],
      "text/latex": [
       "0.854"
      ],
      "text/markdown": [
       "0.854"
      ],
      "text/plain": [
       "[1] 0.854"
      ]
     },
     "metadata": {},
     "output_type": "display_data"
    },
    {
     "data": {
      "text/html": [
       "0.945"
      ],
      "text/latex": [
       "0.945"
      ],
      "text/markdown": [
       "0.945"
      ],
      "text/plain": [
       "[1] 0.945"
      ]
     },
     "metadata": {},
     "output_type": "display_data"
    }
   ],
   "source": [
    "N=1000\n",
    "cover<-rep(1,N)\n",
    "cover2<-rep(1,N)\n",
    "for (i in 1:N) {\n",
    "xs <- log(rgamma(n, 3, 2))\n",
    "zs <- log(rgamma(n, 1, 2))\n",
    "Ys <- rpois(n, lambda=exp(zs+xs))\n",
    "mods <- glm(Ys ~ xs, family=quasipoisson) # fit the quasi-Poisson model\n",
    "tmp <- summary(mods)\n",
    "betahat <- tmp$coefficients[2,1]\n",
    "se <- tmp$coefficients[2,2]\n",
    "phi <- tmp$dispersion\n",
    "CI <- betahat + c(-1,1)*1.96*se/sqrt(phi)\n",
    "CI2 <- betahat + c(-1,1)*1.96*se\n",
    "cover[i] <- (CI[1] < 1) && (CI[2] > 1)\n",
    "cover2[i] <- (CI2[1] < 1) && (CI2[2] > 1)\n",
    "}\n",
    "mean(cover)\n",
    "mean(cover2)\n"
   ]
  },
  {
   "cell_type": "markdown",
   "metadata": {},
   "source": [
    "As $N\\rightarrow \\infty$, the coverage of the quasipoisson model converges to 95. However, the coverage of the normal poisson mosel are far too small.\n",
    "\n",
    "R uses a t-test instead of a z-test in order to perform the hypothesis test because the dispersion parameter is estimated (hence approx Chi squared).\n",
    "\n",
    "Both tests are valid as $n$ tends to infinity, however.\n",
    "\n",
    "Let's have a look at some self harm data in order to assess the effectiveness of therapy.\n",
    "\n",
    "First, import the data..."
   ]
  },
  {
   "cell_type": "code",
   "execution_count": 4,
   "metadata": {},
   "outputs": [
    {
     "data": {
      "text/html": [
       "<table>\n",
       "<thead><tr><th scope=col>count</th><th scope=col>trt</th><th scope=col>sex</th><th scope=col>age</th><th scope=col>centre</th><th scope=col>bpd</th></tr></thead>\n",
       "<tbody>\n",
       "\t<tr><td>1 </td><td>0 </td><td>1 </td><td>42</td><td>0 </td><td>1 </td></tr>\n",
       "\t<tr><td>1 </td><td>0 </td><td>1 </td><td>36</td><td>0 </td><td>1 </td></tr>\n",
       "\t<tr><td>1 </td><td>0 </td><td>1 </td><td>37</td><td>0 </td><td>2 </td></tr>\n",
       "\t<tr><td>0 </td><td>1 </td><td>1 </td><td>18</td><td>0 </td><td>1 </td></tr>\n",
       "\t<tr><td>0 </td><td>1 </td><td>0 </td><td>26</td><td>0 </td><td>1 </td></tr>\n",
       "\t<tr><td>0 </td><td>1 </td><td>1 </td><td>42</td><td>0 </td><td>1 </td></tr>\n",
       "</tbody>\n",
       "</table>\n"
      ],
      "text/latex": [
       "\\begin{tabular}{r|llllll}\n",
       " count & trt & sex & age & centre & bpd\\\\\n",
       "\\hline\n",
       "\t 1  & 0  & 1  & 42 & 0  & 1 \\\\\n",
       "\t 1  & 0  & 1  & 36 & 0  & 1 \\\\\n",
       "\t 1  & 0  & 1  & 37 & 0  & 2 \\\\\n",
       "\t 0  & 1  & 1  & 18 & 0  & 1 \\\\\n",
       "\t 0  & 1  & 0  & 26 & 0  & 1 \\\\\n",
       "\t 0  & 1  & 1  & 42 & 0  & 1 \\\\\n",
       "\\end{tabular}\n"
      ],
      "text/markdown": [
       "\n",
       "count | trt | sex | age | centre | bpd | \n",
       "|---|---|---|---|---|---|\n",
       "| 1  | 0  | 1  | 42 | 0  | 1  | \n",
       "| 1  | 0  | 1  | 36 | 0  | 1  | \n",
       "| 1  | 0  | 1  | 37 | 0  | 2  | \n",
       "| 0  | 1  | 1  | 18 | 0  | 1  | \n",
       "| 0  | 1  | 0  | 26 | 0  | 1  | \n",
       "| 0  | 1  | 1  | 42 | 0  | 1  | \n",
       "\n",
       "\n"
      ],
      "text/plain": [
       "  count trt sex age centre bpd\n",
       "1 1     0   1   42  0      1  \n",
       "2 1     0   1   36  0      1  \n",
       "3 1     0   1   37  0      2  \n",
       "4 0     1   1   18  0      1  \n",
       "5 0     1   0   26  0      1  \n",
       "6 0     1   1   42  0      1  "
      ]
     },
     "metadata": {},
     "output_type": "display_data"
    },
    {
     "name": "stderr",
     "output_type": "stream",
     "text": [
      "The following objects are masked from selfharm (pos = 3):\n",
      "\n",
      "    age, bpd, centre, count, sex, trt\n",
      "\n",
      "The following objects are masked from selfharm (pos = 4):\n",
      "\n",
      "    age, bpd, centre, count, sex, trt\n",
      "\n"
     ]
    }
   ],
   "source": [
    "filePath <- \"http://www.statslab.cam.ac.uk/~tw389/teaching/SLP18/data/\"\n",
    "fileName <- \"selfharm.csv\"\n",
    "selfharm <- read.csv(paste0(filePath, fileName), header=T)\n",
    "head(selfharm)\n",
    "attach(selfharm)\n"
   ]
  },
  {
   "cell_type": "code",
   "execution_count": 5,
   "metadata": {},
   "outputs": [
    {
     "data": {
      "text/plain": [
       "count\n",
       "  0   1   2   3   4   5   7   8   9  10  11  15  16  17  20  22  24  41  45 \n",
       "165  40  19   6   2   4   2   3   2   1   2   1   1   1   1   2   1   1   1 "
      ]
     },
     "metadata": {},
     "output_type": "display_data"
    },
    {
     "data": {
      "text/plain": [
       "   Min. 1st Qu.  Median    Mean 3rd Qu.    Max. \n",
       "  0.000   0.000   0.000   1.702   1.000  45.000 "
      ]
     },
     "metadata": {},
     "output_type": "display_data"
    },
    {
     "data": {
      "text/html": [
       "26.682476455149"
      ],
      "text/latex": [
       "26.682476455149"
      ],
      "text/markdown": [
       "26.682476455149"
      ],
      "text/plain": [
       "[1] 26.68248"
      ]
     },
     "metadata": {},
     "output_type": "display_data"
    },
    {
     "data": {
      "text/plain": [
       "trt: 0\n",
       "   Min. 1st Qu.  Median    Mean 3rd Qu.    Max. \n",
       "  0.000   0.000   0.000   2.008   1.000  45.000 \n",
       "------------------------------------------------------------ \n",
       "trt: 1\n",
       "   Min. 1st Qu.  Median    Mean 3rd Qu.    Max. \n",
       "  0.000   0.000   0.000   1.389   1.000  24.000 "
      ]
     },
     "metadata": {},
     "output_type": "display_data"
    },
    {
     "data": {
      "text/plain": [
       "trt: 0\n",
       "[1] 38.19525\n",
       "------------------------------------------------------------ \n",
       "trt: 1\n",
       "[1] 14.91156"
      ]
     },
     "metadata": {},
     "output_type": "display_data"
    },
    {
     "data": {
      "image/png": "[encoded data removed]",
      "text/plain": [
       "plot without title"
      ]
     },
     "metadata": {},
     "output_type": "display_data"
    }
   ],
   "source": [
    "table(count)\n",
    "summary(count)\n",
    "var(count)\n",
    "by(count, trt, summary)\n",
    "by(count, trt, var)\n",
    "boxplot(split(log(count),trt),names=c(\"TAU\", \"MACT\"),\n",
    "col=2:3, ylab= \"Number of recurrent self-harm episodes\")"
   ]
  },
  {
   "cell_type": "markdown",
   "metadata": {},
   "source": [
    "We can see there's some decrease in the number of self harm episodes after MACT instead of treatment as usual (TAU)."
   ]
  },
  {
   "cell_type": "code",
   "execution_count": 8,
   "metadata": {},
   "outputs": [
    {
     "name": "stderr",
     "output_type": "stream",
     "text": [
      "Warning message:\n",
      "\"package 'lmtest' was built under R version 3.4.4\"Loading required package: zoo\n",
      "\n",
      "Attaching package: 'zoo'\n",
      "\n",
      "The following objects are masked from 'package:base':\n",
      "\n",
      "    as.Date, as.Date.numeric\n",
      "\n"
     ]
    }
   ],
   "source": [
    "library(MASS)\n",
    "library(pscl)\n",
    "library(lmtest)"
   ]
  },
  {
   "cell_type": "markdown",
   "metadata": {},
   "source": [
    "Let's have a look the histograms of the number of episodes overall and after treatment.\n",
    "\n",
    "There is a huge spike at zero, since a large number of people stop engaging in self harm."
   ]
  },
  {
   "cell_type": "code",
   "execution_count": 9,
   "metadata": {
    "scrolled": false
   },
   "outputs": [
    {
     "data": {
      "image/png": "[encoded data removed]",
      "text/plain": [
       "plot without title"
      ]
     },
     "metadata": {},
     "output_type": "display_data"
    },
    {
     "data": {
      "image/png": "[encoded data removed]",
      "text/plain": [
       "plot without title"
      ]
     },
     "metadata": {},
     "output_type": "display_data"
    },
    {
     "data": {
      "image/png": "[encoded data removed]",
      "text/plain": [
       "plot without title"
      ]
     },
     "metadata": {},
     "output_type": "display_data"
    }
   ],
   "source": [
    "truehist(count,h=1,col=\"grey\")\n",
    "truehist(count[trt==0],h=1,col=\"red\")\n",
    "truehist(count[trt==1],h=1,col=\"green\")"
   ]
  },
  {
   "cell_type": "markdown",
   "metadata": {},
   "source": [
    "Let's try to fit a poisson model first."
   ]
  },
  {
   "cell_type": "code",
   "execution_count": 10,
   "metadata": {},
   "outputs": [
    {
     "data": {
      "text/plain": [
       "\n",
       "Call:\n",
       "glm(formula = count ~ trt + age + centre + bpd * sex, family = \"poisson\")\n",
       "\n",
       "Deviance Residuals: \n",
       "    Min       1Q   Median       3Q      Max  \n",
       "-3.2184  -1.9389  -1.2391  -0.1724  11.6703  \n",
       "\n",
       "Coefficients:\n",
       "             Estimate Std. Error z value Pr(>|z|)    \n",
       "(Intercept)  1.722749   0.215386   7.998 1.26e-15 ***\n",
       "trt         -0.437138   0.099969  -4.373 1.23e-05 ***\n",
       "age         -0.044763   0.005003  -8.946  < 2e-16 ***\n",
       "centre1      0.169112   0.102001   1.658   0.0973 .  \n",
       "bpd2         0.272884   0.233757   1.167   0.2431    \n",
       "bpd3        -1.642343   0.401469  -4.091 4.30e-05 ***\n",
       "sex          0.295732   0.149653   1.976   0.0481 *  \n",
       "bpd2:sex    -0.466511   0.277923  -1.679   0.0932 .  \n",
       "bpd3:sex     2.074192   0.424124   4.891 1.01e-06 ***\n",
       "---\n",
       "Signif. codes:  0 '***' 0.001 '**' 0.01 '*' 0.05 '.' 0.1 ' ' 1\n",
       "\n",
       "(Dispersion parameter for poisson family taken to be 1)\n",
       "\n",
       "    Null deviance: 1560.0  on 254  degrees of freedom\n",
       "Residual deviance: 1368.3  on 246  degrees of freedom\n",
       "AIC: 1639.4\n",
       "\n",
       "Number of Fisher Scoring iterations: 7\n"
      ]
     },
     "metadata": {},
     "output_type": "display_data"
    }
   ],
   "source": [
    "centre <- as.factor(centre)\n",
    "bpd <- as.factor(bpd)\n",
    "selfharm.pois <- glm(count~trt+age+centre+bpd*sex, family = \"poisson\")\n",
    "summary(selfharm.pois)"
   ]
  },
  {
   "cell_type": "markdown",
   "metadata": {},
   "source": [
    "The deviance is much too high the for the degrees of freedom, which means the model is rejected.\n",
    "\n",
    "There is overdispersion, since we expect there to be correlation within an individual (some are more likely to relapse than others).\n",
    "\n",
    "\n",
    "We calculate the deviance’s Chi-squared statistic below (see definition of Pearson’s residuals\n",
    "in Example Sheet 1). The p-value is highly significant, so we conclude that there is overdispersion."
   ]
  },
  {
   "cell_type": "code",
   "execution_count": 17,
   "metadata": {},
   "outputs": [
    {
     "data": {
      "text/html": [
       "2660.95649407318"
      ],
      "text/latex": [
       "2660.95649407318"
      ],
      "text/markdown": [
       "2660.95649407318"
      ],
      "text/plain": [
       "[1] 2660.956"
      ]
     },
     "metadata": {},
     "output_type": "display_data"
    },
    {
     "data": {
      "text/html": [
       "0"
      ],
      "text/latex": [
       "0"
      ],
      "text/markdown": [
       "0"
      ],
      "text/plain": [
       "[1] 0"
      ]
     },
     "metadata": {},
     "output_type": "display_data"
    }
   ],
   "source": [
    "chisq <- sum(residuals(selfharm.pois,type=\"pearson\")^2)\n",
    "chisq\n",
    "1-pchisq(chisq, selfharm.pois$df.residual)\n"
   ]
  },
  {
   "cell_type": "markdown",
   "metadata": {},
   "source": [
    "Here we inflate the errors by a factor of $\\sqrt{\\hat{\\phi}}$. \n",
    "\n",
    "If we chose \"quasipoisson\" family, the estimated values and errors turn out to be the same, but R does a $t$-test instead of a $z$-test on the significance."
   ]
  },
  {
   "cell_type": "code",
   "execution_count": 19,
   "metadata": {},
   "outputs": [
    {
     "data": {
      "text/plain": [
       "\n",
       "Call:\n",
       "glm(formula = count ~ trt + age + centre + bpd * sex, family = \"poisson\")\n",
       "\n",
       "Deviance Residuals: \n",
       "    Min       1Q   Median       3Q      Max  \n",
       "-3.2184  -1.9389  -1.2391  -0.1724  11.6703  \n",
       "\n",
       "Coefficients:\n",
       "            Estimate Std. Error z value Pr(>|z|)   \n",
       "(Intercept)  1.72275    0.70838   2.432  0.01502 * \n",
       "trt         -0.43714    0.32879  -1.330  0.18367   \n",
       "age         -0.04476    0.01646  -2.720  0.00653 **\n",
       "centre1      0.16911    0.33547   0.504  0.61419   \n",
       "bpd2         0.27288    0.76880   0.355  0.72263   \n",
       "bpd3        -1.64234    1.32039  -1.244  0.21356   \n",
       "sex          0.29573    0.49219   0.601  0.54794   \n",
       "bpd2:sex    -0.46651    0.91406  -0.510  0.60979   \n",
       "bpd3:sex     2.07419    1.39490   1.487  0.13702   \n",
       "---\n",
       "Signif. codes:  0 '***' 0.001 '**' 0.01 '*' 0.05 '.' 0.1 ' ' 1\n",
       "\n",
       "(Dispersion parameter for poisson family taken to be 10.8169)\n",
       "\n",
       "    Null deviance: 1560.0  on 254  degrees of freedom\n",
       "Residual deviance: 1368.3  on 246  degrees of freedom\n",
       "AIC: 1639.4\n",
       "\n",
       "Number of Fisher Scoring iterations: 7\n"
      ]
     },
     "metadata": {},
     "output_type": "display_data"
    }
   ],
   "source": [
    "phi <- chisq/selfharm.pois$df.residual\n",
    "summary(selfharm.pois, dispersion=phi)"
   ]
  },
  {
   "cell_type": "code",
   "execution_count": 21,
   "metadata": {},
   "outputs": [
    {
     "data": {
      "text/plain": [
       "\n",
       "Call:\n",
       "glm(formula = count ~ trt + age + centre + bpd * sex, family = \"quasipoisson\")\n",
       "\n",
       "Deviance Residuals: \n",
       "    Min       1Q   Median       3Q      Max  \n",
       "-3.2184  -1.9389  -1.2391  -0.1724  11.6703  \n",
       "\n",
       "Coefficients:\n",
       "            Estimate Std. Error t value Pr(>|t|)   \n",
       "(Intercept)  1.72275    0.70838   2.432  0.01573 * \n",
       "trt         -0.43714    0.32879  -1.330  0.18490   \n",
       "age         -0.04476    0.01646  -2.720  0.00699 **\n",
       "centre1      0.16911    0.33547   0.504  0.61464   \n",
       "bpd2         0.27288    0.76880   0.355  0.72293   \n",
       "bpd3        -1.64234    1.32039  -1.244  0.21475   \n",
       "sex          0.29573    0.49219   0.601  0.54850   \n",
       "bpd2:sex    -0.46651    0.91406  -0.510  0.61025   \n",
       "bpd3:sex     2.07419    1.39490   1.487  0.13830   \n",
       "---\n",
       "Signif. codes:  0 '***' 0.001 '**' 0.01 '*' 0.05 '.' 0.1 ' ' 1\n",
       "\n",
       "(Dispersion parameter for quasipoisson family taken to be 10.8169)\n",
       "\n",
       "    Null deviance: 1560.0  on 254  degrees of freedom\n",
       "Residual deviance: 1368.3  on 246  degrees of freedom\n",
       "AIC: NA\n",
       "\n",
       "Number of Fisher Scoring iterations: 7\n"
      ]
     },
     "metadata": {},
     "output_type": "display_data"
    }
   ],
   "source": [
    "summary(glm(count~trt+age+centre+bpd*sex, family = \"quasipoisson\"))\n"
   ]
  },
  {
   "cell_type": "markdown",
   "metadata": {},
   "source": [
    "Now let's try a Negative Binmoial model, again to account for overdispersion.\n",
    "\n",
    "We assume that there is unaccounted heterogeneity, so we use the negative binomial."
   ]
  },
  {
   "cell_type": "code",
   "execution_count": 25,
   "metadata": {},
   "outputs": [
    {
     "data": {
      "text/plain": [
       "\n",
       "Call:\n",
       "glm.nb(formula = count ~ trt + age + centre + bpd * sex, init.theta = 0.2094908739, \n",
       "    link = log)\n",
       "\n",
       "Deviance Residuals: \n",
       "     Min        1Q    Median        3Q       Max  \n",
       "-1.16075  -0.98580  -0.79791  -0.09116   2.28821  \n",
       "\n",
       "Coefficients:\n",
       "            Estimate Std. Error z value Pr(>|z|)   \n",
       "(Intercept)  1.79057    0.61670   2.903  0.00369 **\n",
       "trt         -0.40996    0.30610  -1.339  0.18047   \n",
       "age         -0.04359    0.01328  -3.283  0.00103 **\n",
       "centre1     -0.10721    0.31840  -0.337  0.73633   \n",
       "bpd2         0.40679    0.74869   0.543  0.58690   \n",
       "bpd3        -1.52077    0.70345  -2.162  0.03063 * \n",
       "sex          0.26700    0.40919   0.653  0.51408   \n",
       "bpd2:sex    -0.10217    0.88504  -0.115  0.90810   \n",
       "bpd3:sex     1.85958    0.85756   2.168  0.03012 * \n",
       "---\n",
       "Signif. codes:  0 '***' 0.001 '**' 0.01 '*' 0.05 '.' 0.1 ' ' 1\n",
       "\n",
       "(Dispersion parameter for Negative Binomial(0.2095) family taken to be 1)\n",
       "\n",
       "    Null deviance: 205.06  on 254  degrees of freedom\n",
       "Residual deviance: 182.28  on 246  degrees of freedom\n",
       "AIC: 733.76\n",
       "\n",
       "Number of Fisher Scoring iterations: 1\n",
       "\n",
       "\n",
       "              Theta:  0.2095 \n",
       "          Std. Err.:  0.0304 \n",
       "\n",
       " 2 x log-likelihood:  -713.7640 "
      ]
     },
     "metadata": {},
     "output_type": "display_data"
    }
   ],
   "source": [
    "selfharm.nb <-glm.nb(count~trt+age+centre+bpd*sex)\n",
    "summary(selfharm.nb)\n"
   ]
  },
  {
   "cell_type": "markdown",
   "metadata": {},
   "source": [
    "This is a little depressing, since non of the treatments seem to work significatnly in this model.\n",
    "\n",
    "The over dispersion parameter is $\\tau = 1/0.2095 =  4.77$, which is significantly larger than 0. (Note that the model is poisson if the parameter is 0 -- This is similar to taking the limit in a binomial distribution to get a poisson model)\n",
    "\n",
    "We can check the number of zero counts with this command:"
   ]
  },
  {
   "cell_type": "code",
   "execution_count": 37,
   "metadata": {},
   "outputs": [
    {
     "data": {
      "text/html": [
       "168.13015182407"
      ],
      "text/latex": [
       "168.13015182407"
      ],
      "text/markdown": [
       "168.13015182407"
      ],
      "text/plain": [
       "[1] 168.1302"
      ]
     },
     "metadata": {},
     "output_type": "display_data"
    }
   ],
   "source": [
    "sum(dnbinom(0,mu=fitted(selfharm.nb),size=selfharm.nb$theta))\n"
   ]
  },
  {
   "cell_type": "markdown",
   "metadata": {},
   "source": [
    "We run the overdisperision test. The chi squared statistic is huge, so we reject the null and accept the NegBinom model."
   ]
  },
  {
   "cell_type": "code",
   "execution_count": 39,
   "metadata": {},
   "outputs": [
    {
     "name": "stdout",
     "output_type": "stream",
     "text": [
      "Likelihood ratio test of H0: Poisson, as restricted NB model:\n",
      "n.b., the distribution of the test-statistic under H0 is non-standard\n",
      "e.g., see help(odTest) for details/references\n",
      "\n",
      "Critical value of test statistic at the alpha= 0.05 level: 2.7055 \n",
      "Chi-Square Test Statistic =  907.6169 p-value = < 2.2e-16 \n"
     ]
    }
   ],
   "source": [
    "odTest(selfharm.nb)"
   ]
  },
  {
   "cell_type": "markdown",
   "metadata": {},
   "source": [
    "Finally, we try to account for the zeros directly using a ZIP model. Here, zip1 is a model where we assume the probability of a zero is the same for all Y. In the second case we assume it is logistic with respect to the parameters.\n",
    "\n",
    "We can modify after the bar in order to tweak the covariantes we use for the probability. e.g.\n",
    "\n",
    "\n",
    "zeroinfl(count~trt+age+centre+bpd*sex | trt+age, dist=\"poisson\") \n",
    "\n",
    "We compare the two using a likelihood ratio test."
   ]
  },
  {
   "cell_type": "code",
   "execution_count": 46,
   "metadata": {
    "collapsed": true
   },
   "outputs": [],
   "source": [
    "selfharm.zip1 <- zeroinfl(count~trt+age+centre+bpd*sex | 1, dist=\"poisson\")\n",
    "selfharm.zip2 <- zeroinfl(count~trt+age+centre+bpd*sex, dist=\"poisson\")"
   ]
  },
  {
   "cell_type": "code",
   "execution_count": 48,
   "metadata": {},
   "outputs": [
    {
     "data": {
      "text/html": [
       "<table>\n",
       "<thead><tr><th scope=col>#Df</th><th scope=col>LogLik</th><th scope=col>Df</th><th scope=col>Chisq</th><th scope=col>Pr(&gt;Chisq)</th></tr></thead>\n",
       "<tbody>\n",
       "\t<tr><td>10        </td><td>-519.9369 </td><td>NA        </td><td>      NA  </td><td>        NA</td></tr>\n",
       "\t<tr><td>18        </td><td>-512.3244 </td><td> 8        </td><td>15.22488  </td><td>0.05491742</td></tr>\n",
       "</tbody>\n",
       "</table>\n"
      ],
      "text/latex": [
       "\\begin{tabular}{r|lllll}\n",
       " \\#Df & LogLik & Df & Chisq & Pr(>Chisq)\\\\\n",
       "\\hline\n",
       "\t 10         & -519.9369  & NA         &       NA   &         NA\\\\\n",
       "\t 18         & -512.3244  &  8         & 15.22488   & 0.05491742\\\\\n",
       "\\end{tabular}\n"
      ],
      "text/markdown": [
       "\n",
       "#Df | LogLik | Df | Chisq | Pr(>Chisq) | \n",
       "|---|---|\n",
       "| 10         | -519.9369  | NA         |       NA   |         NA | \n",
       "| 18         | -512.3244  |  8         | 15.22488   | 0.05491742 | \n",
       "\n",
       "\n"
      ],
      "text/plain": [
       "  #Df LogLik    Df Chisq    Pr(>Chisq)\n",
       "1 10  -519.9369 NA       NA         NA\n",
       "2 18  -512.3244  8 15.22488 0.05491742"
      ]
     },
     "metadata": {},
     "output_type": "display_data"
    }
   ],
   "source": [
    "lrtest(selfharm.zip1,selfharm.zip2)"
   ]
  },
  {
   "cell_type": "markdown",
   "metadata": {},
   "source": [
    "The p-value is larger than 0.05, so we don't reject the null of intercept only. Let's try again with the negative binomial models"
   ]
  },
  {
   "cell_type": "code",
   "execution_count": 50,
   "metadata": {
    "collapsed": true
   },
   "outputs": [],
   "source": [
    "selfharm.zinb1 <- zeroinfl(count~trt+age+centre+bpd*sex | 1, dist=\"negbin\")\n",
    "selfharm.zinb2 <- zeroinfl(count~trt+age+centre+bpd*sex, dist=\"negbin\")"
   ]
  },
  {
   "cell_type": "code",
   "execution_count": 52,
   "metadata": {},
   "outputs": [
    {
     "data": {
      "text/html": [
       "<table>\n",
       "<thead><tr><th scope=col>#Df</th><th scope=col>LogLik</th><th scope=col>Df</th><th scope=col>Chisq</th><th scope=col>Pr(&gt;Chisq)</th></tr></thead>\n",
       "<tbody>\n",
       "\t<tr><td>10        </td><td>-519.9369 </td><td>NA        </td><td>      NA  </td><td>        NA</td></tr>\n",
       "\t<tr><td>18        </td><td>-512.3244 </td><td> 8        </td><td>15.22488  </td><td>0.05491742</td></tr>\n",
       "</tbody>\n",
       "</table>\n"
      ],
      "text/latex": [
       "\\begin{tabular}{r|lllll}\n",
       " \\#Df & LogLik & Df & Chisq & Pr(>Chisq)\\\\\n",
       "\\hline\n",
       "\t 10         & -519.9369  & NA         &       NA   &         NA\\\\\n",
       "\t 18         & -512.3244  &  8         & 15.22488   & 0.05491742\\\\\n",
       "\\end{tabular}\n"
      ],
      "text/markdown": [
       "\n",
       "#Df | LogLik | Df | Chisq | Pr(>Chisq) | \n",
       "|---|---|\n",
       "| 10         | -519.9369  | NA         |       NA   |         NA | \n",
       "| 18         | -512.3244  |  8         | 15.22488   | 0.05491742 | \n",
       "\n",
       "\n"
      ],
      "text/plain": [
       "  #Df LogLik    Df Chisq    Pr(>Chisq)\n",
       "1 10  -519.9369 NA       NA         NA\n",
       "2 18  -512.3244  8 15.22488 0.05491742"
      ]
     },
     "metadata": {},
     "output_type": "display_data"
    }
   ],
   "source": [
    "lrtest(selfharm.zip1,selfharm.zip2)"
   ]
  },
  {
   "cell_type": "markdown",
   "metadata": {},
   "source": [
    "Again, we don't reject the null.\n",
    "\n",
    "Now we compare all the models using AIC and BIC.\n",
    "\n",
    "With both, we accept the negative binomial model."
   ]
  },
  {
   "cell_type": "code",
   "execution_count": 56,
   "metadata": {},
   "outputs": [
    {
     "data": {
      "text/html": [
       "<ol class=list-inline>\n",
       "\t<li>1639.38064777574</li>\n",
       "\t<li>733.763763225761</li>\n",
       "\t<li>1059.87371256266</li>\n",
       "\t<li>1060.64882765334</li>\n",
       "\t<li>735.763773134437</li>\n",
       "\t<li>738.170899976658</li>\n",
       "</ol>\n"
      ],
      "text/latex": [
       "\\begin{enumerate*}\n",
       "\\item 1639.38064777574\n",
       "\\item 733.763763225761\n",
       "\\item 1059.87371256266\n",
       "\\item 1060.64882765334\n",
       "\\item 735.763773134437\n",
       "\\item 738.170899976658\n",
       "\\end{enumerate*}\n"
      ],
      "text/markdown": [
       "1. 1639.38064777574\n",
       "2. 733.763763225761\n",
       "3. 1059.87371256266\n",
       "4. 1060.64882765334\n",
       "5. 735.763773134437\n",
       "6. 738.170899976658\n",
       "\n",
       "\n"
      ],
      "text/plain": [
       "[1] 1639.3806  733.7638 1059.8737 1060.6488  735.7638  738.1709"
      ]
     },
     "metadata": {},
     "output_type": "display_data"
    },
    {
     "data": {
      "text/html": [
       "<ol class=list-inline>\n",
       "\t<li>1671.25201968217</li>\n",
       "\t<li>769.176398677346</li>\n",
       "\t<li>1095.28634801424</li>\n",
       "\t<li>1124.39157146619</li>\n",
       "\t<li>774.717672131179</li>\n",
       "\t<li>805.454907334668</li>\n",
       "</ol>\n"
      ],
      "text/latex": [
       "\\begin{enumerate*}\n",
       "\\item 1671.25201968217\n",
       "\\item 769.176398677346\n",
       "\\item 1095.28634801424\n",
       "\\item 1124.39157146619\n",
       "\\item 774.717672131179\n",
       "\\item 805.454907334668\n",
       "\\end{enumerate*}\n"
      ],
      "text/markdown": [
       "1. 1671.25201968217\n",
       "2. 769.176398677346\n",
       "3. 1095.28634801424\n",
       "4. 1124.39157146619\n",
       "5. 774.717672131179\n",
       "6. 805.454907334668\n",
       "\n",
       "\n"
      ],
      "text/plain": [
       "[1] 1671.2520  769.1764 1095.2863 1124.3916  774.7177  805.4549"
      ]
     },
     "metadata": {},
     "output_type": "display_data"
    },
    {
     "data": {
      "text/plain": [
       "\n",
       "Call:  glm.nb(formula = count ~ trt + age + centre + bpd * sex, init.theta = 0.2094908739, \n",
       "    link = log)\n",
       "\n",
       "Coefficients:\n",
       "(Intercept)          trt          age      centre1         bpd2         bpd3  \n",
       "    1.79057     -0.40996     -0.04359     -0.10721      0.40679     -1.52077  \n",
       "        sex     bpd2:sex     bpd3:sex  \n",
       "    0.26700     -0.10217      1.85958  \n",
       "\n",
       "Degrees of Freedom: 254 Total (i.e. Null);  246 Residual\n",
       "Null Deviance:\t    205.1 \n",
       "Residual Deviance: 182.3 \tAIC: 733.8"
      ]
     },
     "metadata": {},
     "output_type": "display_data"
    }
   ],
   "source": [
    "models <- list(selfharm.pois, selfharm.nb, selfharm.zip1, selfharm.zip2,\n",
    "selfharm.zinb1, selfharm.zinb2)\n",
    "dim_models <- c(9, 10, 10, 18, 11, 19) # how are the dimensions computed? (These are the number of parameters)\n",
    "AICs <- -2*sapply(models, logLik) + 2*dim_models\n",
    "# equivalently, we can use sapply(models, AIC) to compute AIC\n",
    "BICs <- -2*sapply(models, logLik) + log(length(count))*dim_models\n",
    "\n",
    "AICs\n",
    "BICs\n",
    "\n",
    "models[[which.min(AICs)]] "
   ]
  }
 ],
 "metadata": {
  "kernelspec": {
   "display_name": "R",
   "language": "R",
   "name": "ir"
  },
  "language_info": {
   "codemirror_mode": "r",
   "file_extension": ".r",
   "mimetype": "text/x-r-source",
   "name": "R",
   "pygments_lexer": "r",
   "version": "3.4.3"
  }
 },
 "nbformat": 4,
 "nbformat_minor": 2
}
