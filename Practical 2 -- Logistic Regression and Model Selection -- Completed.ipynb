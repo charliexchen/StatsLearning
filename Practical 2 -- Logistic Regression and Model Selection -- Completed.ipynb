{
 "cells": [
  {
   "cell_type": "code",
   "execution_count": 6,
   "metadata": {},
   "outputs": [
    {
     "data": {
      "text/html": [
       "<table>\n",
       "<thead><tr><th scope=col>seed</th><th scope=col>extract</th><th scope=col>y</th><th scope=col>n</th></tr></thead>\n",
       "<tbody>\n",
       "\t<tr><td>A </td><td>1 </td><td>10</td><td>39</td></tr>\n",
       "\t<tr><td>A </td><td>1 </td><td>23</td><td>62</td></tr>\n",
       "\t<tr><td>A </td><td>1 </td><td>23</td><td>81</td></tr>\n",
       "\t<tr><td>A </td><td>1 </td><td>26</td><td>51</td></tr>\n",
       "\t<tr><td>A </td><td>1 </td><td>17</td><td>39</td></tr>\n",
       "\t<tr><td>A </td><td>2 </td><td> 5</td><td> 6</td></tr>\n",
       "</tbody>\n",
       "</table>\n"
      ],
      "text/latex": [
       "\\begin{tabular}{r|llll}\n",
       " seed & extract & y & n\\\\\n",
       "\\hline\n",
       "\t A  & 1  & 10 & 39\\\\\n",
       "\t A  & 1  & 23 & 62\\\\\n",
       "\t A  & 1  & 23 & 81\\\\\n",
       "\t A  & 1  & 26 & 51\\\\\n",
       "\t A  & 1  & 17 & 39\\\\\n",
       "\t A  & 2  &  5 &  6\\\\\n",
       "\\end{tabular}\n"
      ],
      "text/markdown": [
       "\n",
       "seed | extract | y | n | \n",
       "|---|---|---|---|---|---|\n",
       "| A  | 1  | 10 | 39 | \n",
       "| A  | 1  | 23 | 62 | \n",
       "| A  | 1  | 23 | 81 | \n",
       "| A  | 1  | 26 | 51 | \n",
       "| A  | 1  | 17 | 39 | \n",
       "| A  | 2  |  5 |  6 | \n",
       "\n",
       "\n"
      ],
      "text/plain": [
       "  seed extract y  n \n",
       "1 A    1       10 39\n",
       "2 A    1       23 62\n",
       "3 A    1       23 81\n",
       "4 A    1       26 51\n",
       "5 A    1       17 39\n",
       "6 A    2        5  6"
      ]
     },
     "metadata": {},
     "output_type": "display_data"
    },
    {
     "data": {
      "text/html": [
       "TRUE"
      ],
      "text/latex": [
       "TRUE"
      ],
      "text/markdown": [
       "TRUE"
      ],
      "text/plain": [
       "[1] TRUE"
      ]
     },
     "metadata": {},
     "output_type": "display_data"
    },
    {
     "data": {
      "text/html": [
       "<table>\n",
       "<thead><tr><th scope=col>seed</th><th scope=col>extract</th><th scope=col>y</th><th scope=col>n</th><th scope=col>prop</th></tr></thead>\n",
       "<tbody>\n",
       "\t<tr><td>A        </td><td>1        </td><td>10       </td><td>39       </td><td>0.2564103</td></tr>\n",
       "\t<tr><td>A        </td><td>1        </td><td>23       </td><td>62       </td><td>0.3709677</td></tr>\n",
       "\t<tr><td>A        </td><td>1        </td><td>23       </td><td>81       </td><td>0.2839506</td></tr>\n",
       "\t<tr><td>A        </td><td>1        </td><td>26       </td><td>51       </td><td>0.5098039</td></tr>\n",
       "\t<tr><td>A        </td><td>1        </td><td>17       </td><td>39       </td><td>0.4358974</td></tr>\n",
       "\t<tr><td>A        </td><td>2        </td><td> 5       </td><td> 6       </td><td>0.8333333</td></tr>\n",
       "</tbody>\n",
       "</table>\n"
      ],
      "text/latex": [
       "\\begin{tabular}{r|lllll}\n",
       " seed & extract & y & n & prop\\\\\n",
       "\\hline\n",
       "\t A         & 1         & 10        & 39        & 0.2564103\\\\\n",
       "\t A         & 1         & 23        & 62        & 0.3709677\\\\\n",
       "\t A         & 1         & 23        & 81        & 0.2839506\\\\\n",
       "\t A         & 1         & 26        & 51        & 0.5098039\\\\\n",
       "\t A         & 1         & 17        & 39        & 0.4358974\\\\\n",
       "\t A         & 2         &  5        &  6        & 0.8333333\\\\\n",
       "\\end{tabular}\n"
      ],
      "text/markdown": [
       "\n",
       "seed | extract | y | n | prop | \n",
       "|---|---|---|---|---|---|\n",
       "| A         | 1         | 10        | 39        | 0.2564103 | \n",
       "| A         | 1         | 23        | 62        | 0.3709677 | \n",
       "| A         | 1         | 23        | 81        | 0.2839506 | \n",
       "| A         | 1         | 26        | 51        | 0.5098039 | \n",
       "| A         | 1         | 17        | 39        | 0.4358974 | \n",
       "| A         | 2         |  5        |  6        | 0.8333333 | \n",
       "\n",
       "\n"
      ],
      "text/plain": [
       "  seed extract y  n  prop     \n",
       "1 A    1       10 39 0.2564103\n",
       "2 A    1       23 62 0.3709677\n",
       "3 A    1       23 81 0.2839506\n",
       "4 A    1       26 51 0.5098039\n",
       "5 A    1       17 39 0.4358974\n",
       "6 A    2        5  6 0.8333333"
      ]
     },
     "metadata": {},
     "output_type": "display_data"
    }
   ],
   "source": [
    "filePath <- \"http://www.statslab.cam.ac.uk/~tw389/teaching/SLP18/data/\"\n",
    "fileName <- \"seeds\"\n",
    "seeds <- read.table(paste0(filePath, fileName), header = T)\n",
    "head(seeds)\n",
    "seeds <- cbind(seeds , prop = seeds$y/seeds$n)\n",
    "attach (seeds)\n",
    "is.factor(seed)\n",
    "seeds$extract <- as.factor(seeds$extract)\n",
    "head(seeds)"
   ]
  },
  {
   "cell_type": "code",
   "execution_count": 9,
   "metadata": {},
   "outputs": [
    {
     "data": {
      "image/png": "[encoded data removed]",
      "text/plain": [
       "plot without title"
      ]
     },
     "metadata": {},
     "output_type": "display_data"
    },
    {
     "data": {
      "image/png": "[encoded data removed]",
      "text/plain": [
       "plot without title"
      ]
     },
     "metadata": {},
     "output_type": "display_data"
    }
   ],
   "source": [
    "plot.design(prop ~ seed*extract, data=seeds)\n",
    "interaction.plot(seed, extract, prop)"
   ]
  },
  {
   "cell_type": "code",
   "execution_count": 12,
   "metadata": {},
   "outputs": [
    {
     "data": {
      "text/plain": [
       "\n",
       "Call:\n",
       "glm(formula = prop ~ seed * extract, family = binomial, data = seeds, \n",
       "    weights = n)\n",
       "\n",
       "Deviance Residuals: \n",
       "     Min        1Q    Median        3Q       Max  \n",
       "-2.01617  -1.24398   0.05995   0.84695   2.12123  \n",
       "\n",
       "Coefficients:\n",
       "               Estimate Std. Error z value Pr(>|z|)    \n",
       "(Intercept)     -0.5582     0.1260  -4.429 9.46e-06 ***\n",
       "seedB            0.1459     0.2232   0.654   0.5132    \n",
       "extract2         1.3182     0.1775   7.428 1.10e-13 ***\n",
       "seedB:extract2  -0.7781     0.3064  -2.539   0.0111 *  \n",
       "---\n",
       "Signif. codes:  0 '***' 0.001 '**' 0.01 '*' 0.05 '.' 0.1 ' ' 1\n",
       "\n",
       "(Dispersion parameter for binomial family taken to be 1)\n",
       "\n",
       "    Null deviance: 98.719  on 20  degrees of freedom\n",
       "Residual deviance: 33.278  on 17  degrees of freedom\n",
       "AIC: 117.87\n",
       "\n",
       "Number of Fisher Scoring iterations: 4\n"
      ]
     },
     "metadata": {},
     "output_type": "display_data"
    }
   ],
   "source": [
    "seed.glm1 <- glm(prop~seed*extract, family=binomial, weights = n, data = seeds)\n",
    "summary(seed.glm1)"
   ]
  },
  {
   "cell_type": "markdown",
   "metadata": {},
   "source": [
    "This is fitting the model $n_{ijk}Y_i \\sim \\text{Bin}(n_{ijk}, p_{ijk})$ and $\\text{logit}(\\frac{p_{ijk}}{1-p_{ijk}}) = \\mu + \\alpha_i+\\beta_j+\\gamma_{ij}$. In this notation, $\\alpha_1 = \\beta_1 = \\gamma_{11} = \\gamma_{21} = \\gamma_{12} =0$\n",
    "\n",
    "The high deviance for the 17 degrees of freedom suggests poor fit.\n",
    "\n",
    "Now lets try some tests."
   ]
  },
  {
   "cell_type": "code",
   "execution_count": 19,
   "metadata": {},
   "outputs": [
    {
     "data": {
      "text/html": [
       "<table>\n",
       "<thead><tr><th></th><th scope=col>Df</th><th scope=col>Deviance</th><th scope=col>Resid. Df</th><th scope=col>Resid. Dev</th><th scope=col>Pr(&gt;Chi)</th></tr></thead>\n",
       "<tbody>\n",
       "\t<tr><th scope=row>NULL</th><td>NA          </td><td>       NA   </td><td>20          </td><td>98.71946    </td><td>          NA</td></tr>\n",
       "\t<tr><th scope=row>seed</th><td> 1          </td><td> 2.544214   </td><td>19          </td><td>96.17524    </td><td>1.106990e-01</td></tr>\n",
       "\t<tr><th scope=row>extract</th><td> 1          </td><td>56.489353   </td><td>18          </td><td>39.68589    </td><td>5.650349e-14</td></tr>\n",
       "\t<tr><th scope=row>seed:extract</th><td> 1          </td><td> 6.408104   </td><td>17          </td><td>33.27779    </td><td>1.136007e-02</td></tr>\n",
       "</tbody>\n",
       "</table>\n"
      ],
      "text/latex": [
       "\\begin{tabular}{r|lllll}\n",
       "  & Df & Deviance & Resid. Df & Resid. Dev & Pr(>Chi)\\\\\n",
       "\\hline\n",
       "\tNULL & NA           &        NA    & 20           & 98.71946     &           NA\\\\\n",
       "\tseed &  1           &  2.544214    & 19           & 96.17524     & 1.106990e-01\\\\\n",
       "\textract &  1           & 56.489353    & 18           & 39.68589     & 5.650349e-14\\\\\n",
       "\tseed:extract &  1           &  6.408104    & 17           & 33.27779     & 1.136007e-02\\\\\n",
       "\\end{tabular}\n"
      ],
      "text/markdown": [
       "\n",
       "| <!--/--> | Df | Deviance | Resid. Df | Resid. Dev | Pr(>Chi) | \n",
       "|---|---|---|---|\n",
       "| NULL | NA           |        NA    | 20           | 98.71946     |           NA | \n",
       "| seed |  1           |  2.544214    | 19           | 96.17524     | 1.106990e-01 | \n",
       "| extract |  1           | 56.489353    | 18           | 39.68589     | 5.650349e-14 | \n",
       "| seed:extract |  1           |  6.408104    | 17           | 33.27779     | 1.136007e-02 | \n",
       "\n",
       "\n"
      ],
      "text/plain": [
       "             Df Deviance  Resid. Df Resid. Dev Pr(>Chi)    \n",
       "NULL         NA        NA 20        98.71946             NA\n",
       "seed          1  2.544214 19        96.17524   1.106990e-01\n",
       "extract       1 56.489353 18        39.68589   5.650349e-14\n",
       "seed:extract  1  6.408104 17        33.27779   1.136007e-02"
      ]
     },
     "metadata": {},
     "output_type": "display_data"
    }
   ],
   "source": [
    "anova(seed.glm1, test=\"Chisq\")"
   ]
  },
  {
   "cell_type": "code",
   "execution_count": 21,
   "metadata": {},
   "outputs": [
    {
     "data": {
      "text/plain": [
       "\n",
       "Call:\n",
       "glm(formula = prop ~ seed + extract, family = binomial, data = seeds, \n",
       "    weights = n)\n",
       "\n",
       "Deviance Residuals: \n",
       "    Min       1Q   Median       3Q      Max  \n",
       "-2.3919  -0.9949  -0.3744   0.9831   2.4766  \n",
       "\n",
       "Coefficients:\n",
       "            Estimate Std. Error z value Pr(>|z|)    \n",
       "(Intercept)  -0.4300     0.1137  -3.781 0.000156 ***\n",
       "seedB        -0.2705     0.1547  -1.748 0.080435 .  \n",
       "extract2      1.0647     0.1442   7.383 1.55e-13 ***\n",
       "---\n",
       "Signif. codes:  0 '***' 0.001 '**' 0.01 '*' 0.05 '.' 0.1 ' ' 1\n",
       "\n",
       "(Dispersion parameter for binomial family taken to be 1)\n",
       "\n",
       "    Null deviance: 98.719  on 20  degrees of freedom\n",
       "Residual deviance: 39.686  on 18  degrees of freedom\n",
       "AIC: 122.28\n",
       "\n",
       "Number of Fisher Scoring iterations: 4\n"
      ]
     },
     "metadata": {},
     "output_type": "display_data"
    }
   ],
   "source": [
    "seed.glm2 <- glm(prop~seed+extract, family=binomial, weights = n, data = seeds)\n",
    "summary(seed.glm2)"
   ]
  },
  {
   "cell_type": "markdown",
   "metadata": {},
   "source": [
    "The increase in deviance of around 6 means thatn it is significant according to $\\chi^2_1$. Therefore, we reject this simpler model.\n",
    "\n",
    "Furthernmore, not that this simpler model has a higher AIC. Therefore, the more complicated model is selected.\n",
    "\n",
    "Now we use various model selection methods to select the optimal model for modelling surgery data."
   ]
  },
  {
   "cell_type": "code",
   "execution_count": 24,
   "metadata": {},
   "outputs": [
    {
     "data": {
      "text/html": [
       "<table>\n",
       "<thead><tr><th scope=col>age</th><th scope=col>sex</th><th scope=col>vas</th><th scope=col>lnSize</th><th scope=col>stage</th><th scope=col>platelet</th><th scope=col>death</th></tr></thead>\n",
       "<tbody>\n",
       "\t<tr><td>50  </td><td>M   </td><td>1   </td><td>4.25</td><td>3   </td><td>214 </td><td>1   </td></tr>\n",
       "\t<tr><td>50  </td><td>F   </td><td>0   </td><td>2.71</td><td>2   </td><td>135 </td><td>0   </td></tr>\n",
       "\t<tr><td>51  </td><td>M   </td><td>1   </td><td>2.94</td><td>1   </td><td>270 </td><td>1   </td></tr>\n",
       "\t<tr><td>51  </td><td>M   </td><td>0   </td><td>3.50</td><td>2   </td><td>293 </td><td>0   </td></tr>\n",
       "\t<tr><td>53  </td><td>M   </td><td>1   </td><td>4.09</td><td>3   </td><td>209 </td><td>1   </td></tr>\n",
       "\t<tr><td>54  </td><td>M   </td><td>0   </td><td>2.30</td><td>1   </td><td>182 </td><td>0   </td></tr>\n",
       "</tbody>\n",
       "</table>\n"
      ],
      "text/latex": [
       "\\begin{tabular}{r|lllllll}\n",
       " age & sex & vas & lnSize & stage & platelet & death\\\\\n",
       "\\hline\n",
       "\t 50   & M    & 1    & 4.25 & 3    & 214  & 1   \\\\\n",
       "\t 50   & F    & 0    & 2.71 & 2    & 135  & 0   \\\\\n",
       "\t 51   & M    & 1    & 2.94 & 1    & 270  & 1   \\\\\n",
       "\t 51   & M    & 0    & 3.50 & 2    & 293  & 0   \\\\\n",
       "\t 53   & M    & 1    & 4.09 & 3    & 209  & 1   \\\\\n",
       "\t 54   & M    & 0    & 2.30 & 1    & 182  & 0   \\\\\n",
       "\\end{tabular}\n"
      ],
      "text/markdown": [
       "\n",
       "age | sex | vas | lnSize | stage | platelet | death | \n",
       "|---|---|---|---|---|---|\n",
       "| 50   | M    | 1    | 4.25 | 3    | 214  | 1    | \n",
       "| 50   | F    | 0    | 2.71 | 2    | 135  | 0    | \n",
       "| 51   | M    | 1    | 2.94 | 1    | 270  | 1    | \n",
       "| 51   | M    | 0    | 3.50 | 2    | 293  | 0    | \n",
       "| 53   | M    | 1    | 4.09 | 3    | 209  | 1    | \n",
       "| 54   | M    | 0    | 2.30 | 1    | 182  | 0    | \n",
       "\n",
       "\n"
      ],
      "text/plain": [
       "  age sex vas lnSize stage platelet death\n",
       "1 50  M   1   4.25   3     214      1    \n",
       "2 50  F   0   2.71   2     135      0    \n",
       "3 51  M   1   2.94   1     270      1    \n",
       "4 51  M   0   3.50   2     293      0    \n",
       "5 53  M   1   4.09   3     209      1    \n",
       "6 54  M   0   2.30   1     182      0    "
      ]
     },
     "metadata": {},
     "output_type": "display_data"
    },
    {
     "name": "stderr",
     "output_type": "stream",
     "text": [
      "The following objects are masked from surg (pos = 3):\n",
      "\n",
      "    age, death, lnSize, platelet, sex, stage, vas\n",
      "\n",
      "The following objects are masked from surg (pos = 4):\n",
      "\n",
      "    age, death, lnSize, platelet, sex, stage, vas\n",
      "\n"
     ]
    },
    {
     "data": {
      "text/html": [
       "15"
      ],
      "text/latex": [
       "15"
      ],
      "text/markdown": [
       "15"
      ],
      "text/plain": [
       "[1] 15"
      ]
     },
     "metadata": {},
     "output_type": "display_data"
    }
   ],
   "source": [
    "fileName <- \"surgery\"\n",
    "surg <- read.table (paste0(filePath, fileName), header=T)\n",
    "\n",
    "head(surg)\n",
    "attach(surg)\n",
    "sum(death)"
   ]
  },
  {
   "cell_type": "markdown",
   "metadata": {},
   "source": [
    "We shall lump the stages into a two level variable, though it is possible to interpolate between them.\n",
    "\n",
    "We're using a logistic regressive model -- binomial but with only two classes."
   ]
  },
  {
   "cell_type": "code",
   "execution_count": 27,
   "metadata": {},
   "outputs": [
    {
     "data": {
      "text/plain": [
       "\n",
       "Call:\n",
       "glm(formula = death ~ age + sex + vas + lnSize + I(stage >= 3) + \n",
       "    platelet, family = binomial)\n",
       "\n",
       "Deviance Residuals: \n",
       "    Min       1Q   Median       3Q      Max  \n",
       "-1.7928  -0.5933  -0.2548   0.1471   1.9433  \n",
       "\n",
       "Coefficients:\n",
       "                   Estimate Std. Error z value Pr(>|z|)  \n",
       "(Intercept)       -2.790251   6.632857  -0.421   0.6740  \n",
       "age               -0.093112   0.105252  -0.885   0.3763  \n",
       "sexM              -0.542891   1.101351  -0.493   0.6221  \n",
       "vas                0.534318   1.179241   0.453   0.6505  \n",
       "lnSize             2.247142   1.207833   1.860   0.0628 .\n",
       "I(stage >= 3)TRUE  3.959408   1.639399   2.415   0.0157 *\n",
       "platelet          -0.001595   0.007189  -0.222   0.8244  \n",
       "---\n",
       "Signif. codes:  0 '***' 0.001 '**' 0.01 '*' 0.05 '.' 0.1 ' ' 1\n",
       "\n",
       "(Dispersion parameter for binomial family taken to be 1)\n",
       "\n",
       "    Null deviance: 52.925  on 39  degrees of freedom\n",
       "Residual deviance: 26.212  on 33  degrees of freedom\n",
       "AIC: 40.212\n",
       "\n",
       "Number of Fisher Scoring iterations: 6\n"
      ]
     },
     "metadata": {},
     "output_type": "display_data"
    }
   ],
   "source": [
    "surg.glm1 <- glm(death~age+sex+vas+lnSize+I(stage>=3)+platelet, binomial)\n",
    "summary(surg.glm1)"
   ]
  },
  {
   "cell_type": "markdown",
   "metadata": {},
   "source": [
    "The small dispersion method only works if we have sufficiently large number of trials for each data point -- here, we're dealing with binary data, so that does not hold.\n",
    "\n",
    "We therefore use AIC and to select a model using forward selection. This starts with an intercept only model and then adds new covariates greedily."
   ]
  },
  {
   "cell_type": "code",
   "execution_count": 30,
   "metadata": {},
   "outputs": [
    {
     "name": "stdout",
     "output_type": "stream",
     "text": [
      "Start:  AIC=54.93\n",
      "death ~ 1\n",
      "\n",
      "                Df Deviance    AIC\n",
      "+ I(stage >= 3)  1   33.364 37.364\n",
      "+ lnSize         1   37.426 41.426\n",
      "+ vas            1   47.527 51.527\n",
      "+ sex            1   49.568 53.568\n",
      "<none>               52.925 54.925\n",
      "+ age            1   52.829 56.829\n",
      "+ platelet       1   52.863 56.863\n",
      "\n",
      "Step:  AIC=37.36\n",
      "death ~ I(stage >= 3)\n",
      "\n",
      "           Df Deviance    AIC\n",
      "+ lnSize    1   27.278 33.278\n",
      "<none>          33.364 37.364\n",
      "+ vas       1   32.122 38.122\n",
      "+ age       1   32.552 38.552\n",
      "+ sex       1   33.081 39.081\n",
      "+ platelet  1   33.356 39.356\n",
      "\n",
      "Step:  AIC=33.28\n",
      "death ~ I(stage >= 3) + lnSize\n",
      "\n",
      "           Df Deviance    AIC\n",
      "<none>          27.278 33.278\n",
      "+ age       1   26.647 34.647\n",
      "+ sex       1   27.218 35.218\n",
      "+ vas       1   27.219 35.219\n",
      "+ platelet  1   27.231 35.231\n"
     ]
    },
    {
     "data": {
      "text/plain": [
       "\n",
       "Call:  glm(formula = death ~ I(stage >= 3) + lnSize, family = binomial)\n",
       "\n",
       "Coefficients:\n",
       "      (Intercept)  I(stage >= 3)TRUE             lnSize  \n",
       "           -8.180              3.394              2.123  \n",
       "\n",
       "Degrees of Freedom: 39 Total (i.e. Null);  37 Residual\n",
       "Null Deviance:\t    52.93 \n",
       "Residual Deviance: 27.28 \tAIC: 33.28"
      ]
     },
     "metadata": {},
     "output_type": "display_data"
    }
   ],
   "source": [
    "step(glm(death~1, binomial), scope = death ~ age + sex + vas + lnSize + I(stage>=3) + platelet, direction = 'forward', trace =1)"
   ]
  },
  {
   "cell_type": "code",
   "execution_count": 32,
   "metadata": {},
   "outputs": [
    {
     "name": "stderr",
     "output_type": "stream",
     "text": [
      "Waiting for profiling to be done...\n"
     ]
    },
    {
     "data": {
      "text/html": [
       "<table>\n",
       "<thead><tr><th></th><th scope=col>2.5 %</th><th scope=col>97.5 %</th></tr></thead>\n",
       "<tbody>\n",
       "\t<tr><th scope=row>(Intercept)</th><td>-0.96363022</td><td>0.07946348 </td></tr>\n",
       "\t<tr><th scope=row>I(stage &gt;= 3)TRUE</th><td> 0.28452903</td><td>0.84126868 </td></tr>\n",
       "\t<tr><th scope=row>lnSize</th><td> 0.03678039</td><td>0.38099989 </td></tr>\n",
       "</tbody>\n",
       "</table>\n"
      ],
      "text/latex": [
       "\\begin{tabular}{r|ll}\n",
       "  & 2.5 \\% & 97.5 \\%\\\\\n",
       "\\hline\n",
       "\t(Intercept) & -0.96363022 & 0.07946348 \\\\\n",
       "\tI(stage >= 3)TRUE &  0.28452903 & 0.84126868 \\\\\n",
       "\tlnSize &  0.03678039 & 0.38099989 \\\\\n",
       "\\end{tabular}\n"
      ],
      "text/markdown": [
       "\n",
       "| <!--/--> | 2.5 % | 97.5 % | \n",
       "|---|---|---|\n",
       "| (Intercept) | -0.96363022 | 0.07946348  | \n",
       "| I(stage >= 3)TRUE |  0.28452903 | 0.84126868  | \n",
       "| lnSize |  0.03678039 | 0.38099989  | \n",
       "\n",
       "\n"
      ],
      "text/plain": [
       "                  2.5 %       97.5 %    \n",
       "(Intercept)       -0.96363022 0.07946348\n",
       "I(stage >= 3)TRUE  0.28452903 0.84126868\n",
       "lnSize             0.03678039 0.38099989"
      ]
     },
     "metadata": {},
     "output_type": "display_data"
    }
   ],
   "source": [
    "confint(glm(death~I(stage >= 3) + lnSize))\n",
    "#We cannot use this, since we have chosen the most significant variables. Hence this is overly optimistic."
   ]
  },
  {
   "cell_type": "markdown",
   "metadata": {},
   "source": [
    "Now lets do an example of model selection with AIC, BIC and the like. Generate data with true model $Y_i = -2 + 3x^2 +2x^3 + \\epsilon_i$ with $\\epsilon_i\\sim N(0, 1)$."
   ]
  },
  {
   "cell_type": "code",
   "execution_count": 34,
   "metadata": {},
   "outputs": [
    {
     "data": {
      "image/png": "[encoded data removed]",
      "text/plain": [
       "plot without title"
      ]
     },
     "metadata": {},
     "output_type": "display_data"
    }
   ],
   "source": [
    "set.seed(2018)\n",
    "n=100\n",
    "x = sort (runif (n,-1,2))\n",
    "mu = -2 -3*x^2 +2 *x^3\n",
    "y = mu + rnorm (n)\n",
    "plot(x,y)\n",
    "points(x,mu,type='l')"
   ]
  },
  {
   "cell_type": "markdown",
   "metadata": {},
   "source": [
    "Now we try to use different methods to select the model."
   ]
  },
  {
   "cell_type": "code",
   "execution_count": 52,
   "metadata": {
    "collapsed": true
   },
   "outputs": [],
   "source": [
    "cv <- function(x, y, degree, folds)\n",
    "{\n",
    "n = length(x)\n",
    "yhat <- rep(0, n)\n",
    "foldID <- (rep(0, n) + 1:folds)[sample(n)]\n",
    "for(v in 1:folds) {\n",
    "ind <- (1:n)[foldID == v]\n",
    "x.train <- x[-ind]; x.test <- x[ind]\n",
    "y.train <- y[-ind]; y.test <- y[ind]\n",
    "fit <- lm(y.train ~ poly(x.train, degree=degree) )\n",
    "new <- data.frame(x.in = seq(-3, 3, by=0.1))\n",
    "yhat[ind]<- predict(fit, newdata=data.frame(x.train = x.test))\n",
    "}\n",
    "# the squared error:\n",
    "return(sum((y-yhat)^2))\n",
    "}\n"
   ]
  },
  {
   "cell_type": "code",
   "execution_count": 53,
   "metadata": {},
   "outputs": [
    {
     "data": {
      "text/html": [
       "7"
      ],
      "text/latex": [
       "7"
      ],
      "text/markdown": [
       "7"
      ],
      "text/plain": [
       "[1] 7"
      ]
     },
     "metadata": {},
     "output_type": "display_data"
    },
    {
     "data": {
      "text/html": [
       "3"
      ],
      "text/latex": [
       "3"
      ],
      "text/markdown": [
       "3"
      ],
      "text/plain": [
       "[1] 3"
      ]
     },
     "metadata": {},
     "output_type": "display_data"
    },
    {
     "data": {
      "text/html": [
       "3"
      ],
      "text/latex": [
       "3"
      ],
      "text/markdown": [
       "3"
      ],
      "text/plain": [
       "[1] 3"
      ]
     },
     "metadata": {},
     "output_type": "display_data"
    },
    {
     "data": {
      "text/html": [
       "3"
      ],
      "text/latex": [
       "3"
      ],
      "text/markdown": [
       "3"
      ],
      "text/plain": [
       "[1] 3"
      ]
     },
     "metadata": {},
     "output_type": "display_data"
    },
    {
     "data": {
      "image/png": "[encoded data removed]",
      "text/plain": [
       "plot without title"
      ]
     },
     "metadata": {},
     "output_type": "display_data"
    }
   ],
   "source": [
    "shape <- function(x){(x-min(x))/(max(x)-min(x))}\n",
    "AICs <- BICs <- CVerr <- rep(0, 10)\n",
    "for (degree in 1:10){\n",
    "fit <- lm(y ~ poly(x, degree))\n",
    "AICs[degree] = AIC(fit)\n",
    "BICs[degree] = BIC(fit)\n",
    "CVerr[degree] = cv(x, y, degree, folds=n)\n",
    "}\n",
    "7\n",
    "plot(shape(AICs), type='l', col='red', ylab='relative magnitude')\n",
    "points(shape(BICs), type='l', col='orange')\n",
    "points(shape(CVerr), type='l', col='blue')\n",
    "legend('topright', c('AIC','BIC','CV err'), lty=1, col=c('red','orange','blue'))\n",
    "which.min(AICs)\n",
    "which.min(BICs)\n",
    "which.min(CVerr)\n"
   ]
  }
 ],
 "metadata": {
  "kernelspec": {
   "display_name": "R",
   "language": "R",
   "name": "ir"
  },
  "language_info": {
   "codemirror_mode": "r",
   "file_extension": ".r",
   "mimetype": "text/x-r-source",
   "name": "R",
   "pygments_lexer": "r",
   "version": "3.4.3"
  }
 },
 "nbformat": 4,
 "nbformat_minor": 2
}
