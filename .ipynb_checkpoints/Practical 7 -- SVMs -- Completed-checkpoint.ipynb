{
 "cells": [
  {
   "cell_type": "code",
   "execution_count": 45,
   "metadata": {},
   "outputs": [],
   "source": [
    "library(e1071)"
   ]
  },
  {
   "cell_type": "code",
   "execution_count": 46,
   "metadata": {},
   "outputs": [
    {
     "data": {
      "image/png": "[encoded data removed]",
      "text/plain": [
       "plot without title"
      ]
     },
     "metadata": {},
     "output_type": "display_data"
    }
   ],
   "source": [
    "library(MASS)\n",
    "n <- 100\n",
    "set.seed(2018)\n",
    "#here we generate some data\n",
    "x <- rbind (mvrnorm (n/2, c(-2,-2), diag(2)), mvrnorm (n/2, c(2,2), diag(2)))\n",
    "y <- as.factor (rep (c(1,2), each = n/2))\n",
    "dat <- data.frame(x1 = x[,1] , x2 = x[,2], y)\n",
    "with(dat, plot(x1, x2, pch=20,col=y, asp=1))"
   ]
  },
  {
   "cell_type": "code",
   "execution_count": 47,
   "metadata": {},
   "outputs": [
    {
     "data": {
      "text/plain": [
       "\n",
       "Call:\n",
       "svm(formula = y ~ x1 + x2, data = dat, kernel = \"linear\", cost = 1000)\n",
       "\n",
       "\n",
       "Parameters:\n",
       "   SVM-Type:  C-classification \n",
       " SVM-Kernel:  linear \n",
       "       cost:  1000 \n",
       "      gamma:  0.5 \n",
       "\n",
       "Number of Support Vectors:  2\n",
       "\n",
       " ( 1 1 )\n",
       "\n",
       "\n",
       "Number of Classes:  2 \n",
       "\n",
       "Levels: \n",
       " 1 2\n",
       "\n",
       "\n"
      ]
     },
     "metadata": {},
     "output_type": "display_data"
    },
    {
     "data": {
      "text/html": [
       "<table>\n",
       "<tbody>\n",
       "\t<tr><td>-1.0651731</td><td>0.0994707 </td></tr>\n",
       "\t<tr><td>-0.3689705</td><td>0.9629019 </td></tr>\n",
       "</tbody>\n",
       "</table>\n"
      ],
      "text/latex": [
       "\\begin{tabular}{ll}\n",
       "\t -1.0651731 & 0.0994707 \\\\\n",
       "\t -0.3689705 & 0.9629019 \\\\\n",
       "\\end{tabular}\n"
      ],
      "text/markdown": [
       "\n",
       "| -1.0651731 | 0.0994707  | \n",
       "| -0.3689705 | 0.9629019  | \n",
       "\n",
       "\n"
      ],
      "text/plain": [
       "     [,1]       [,2]     \n",
       "[1,] -1.0651731 0.0994707\n",
       "[2,] -0.3689705 0.9629019"
      ]
     },
     "metadata": {},
     "output_type": "display_data"
    },
    {
     "data": {
      "image/png": "[encoded data removed]",
      "text/plain": [
       "Plot with title \"SVM classification plot\""
      ]
     },
     "metadata": {},
     "output_type": "display_data"
    }
   ],
   "source": [
    "obj <- svm(y~x1+x2, data = dat, kernel = \"linear\", cost = 1000)\n",
    "summary(obj)\n",
    "x[obj$index,]\n",
    "plot(obj, dat)"
   ]
  },
  {
   "cell_type": "markdown",
   "metadata": {},
   "source": [
    "This is solving the problem: $\\min \\frac{1}{2} ||\\beta||^2_2 +C\\sum_{1=i}^n\\xi_i$ subject to $y_i(x_i^T\\beta + \\beta _0)>1-\\xi_i$\n",
    "\n",
    "Since separating planes a rare in nature, R doesn't actually implement the hard margin formula.  Instead, we just use a high cost in order to force $\\xi_i$ to be small. \n",
    "\n",
    "In the hard margin linear example with a separating hyperplane, there is only two support vectors. The decision boundary is the perpendicular bisector of the two.\n",
    "\n",
    "Suppose we try this with some unseen data."
   ]
  },
  {
   "cell_type": "code",
   "execution_count": 48,
   "metadata": {},
   "outputs": [
    {
     "data": {
      "text/plain": [
       "     ynew\n",
       "ypred  1  2\n",
       "    1 49  0\n",
       "    2  1 50"
      ]
     },
     "metadata": {},
     "output_type": "display_data"
    },
    {
     "data": {
      "text/html": [
       "0.01"
      ],
      "text/latex": [
       "0.01"
      ],
      "text/markdown": [
       "0.01"
      ],
      "text/plain": [
       "[1] 0.01"
      ]
     },
     "metadata": {},
     "output_type": "display_data"
    }
   ],
   "source": [
    "xnew <- rbind (mvrnorm (n/2, c(-2,-2), diag(2)), mvrnorm (n/2, c(2,2), diag(2)))\n",
    "ynew <- as.factor (rep (c(1,2), each = n/2))\n",
    "ypred <- predict(obj, xnew)\n",
    "table (ypred, ynew)\n",
    "sum(ypred!=ynew)/n"
   ]
  },
  {
   "cell_type": "markdown",
   "metadata": {},
   "source": [
    "Now suppose we generate some data without any separating hyperplanes and then fit a SVM with a soft margin."
   ]
  },
  {
   "cell_type": "code",
   "execution_count": 65,
   "metadata": {
    "scrolled": false
   },
   "outputs": [
    {
     "data": {
      "text/plain": [
       "\n",
       "Call:\n",
       "svm(formula = y ~ x1 + x2, data = dat, kernel = \"linear\", cost = 10000)\n",
       "\n",
       "\n",
       "Parameters:\n",
       "   SVM-Type:  C-classification \n",
       " SVM-Kernel:  linear \n",
       "       cost:  10000 \n",
       "      gamma:  0.5 \n",
       "\n",
       "Number of Support Vectors:  16\n",
       "\n",
       " ( 8 8 )\n",
       "\n",
       "\n",
       "Number of Classes:  2 \n",
       "\n",
       "Levels: \n",
       " 1 2\n",
       "\n",
       "\n"
      ]
     },
     "metadata": {},
     "output_type": "display_data"
    },
    {
     "data": {
      "text/html": [
       "<table>\n",
       "<tbody>\n",
       "\t<tr><td> 0.2019777</td><td>-1.5308197</td></tr>\n",
       "\t<tr><td>-1.6514169</td><td> 1.0055995</td></tr>\n",
       "\t<tr><td>-0.3808323</td><td> 1.6363899</td></tr>\n",
       "\t<tr><td>-0.8954544</td><td>-0.8965873</td></tr>\n",
       "\t<tr><td> 0.3658627</td><td>-1.6458518</td></tr>\n",
       "\t<tr><td>-1.2400089</td><td> 1.0926359</td></tr>\n",
       "\t<tr><td> 0.9439927</td><td>-2.8483426</td></tr>\n",
       "\t<tr><td> 0.6835877</td><td>-2.2574513</td></tr>\n",
       "\t<tr><td>-1.9463339</td><td> 0.7485015</td></tr>\n",
       "\t<tr><td>-0.1620345</td><td>-0.1150225</td></tr>\n",
       "\t<tr><td> 0.5678770</td><td>-1.6299402</td></tr>\n",
       "\t<tr><td> 0.2419501</td><td>-1.0598300</td></tr>\n",
       "\t<tr><td> 0.6128706</td><td> 0.3953119</td></tr>\n",
       "\t<tr><td>-0.6869206</td><td> 1.7271524</td></tr>\n",
       "\t<tr><td>-2.1031772</td><td> 0.2036933</td></tr>\n",
       "\t<tr><td> 0.1598221</td><td>-1.4821284</td></tr>\n",
       "</tbody>\n",
       "</table>\n"
      ],
      "text/latex": [
       "\\begin{tabular}{ll}\n",
       "\t  0.2019777 & -1.5308197\\\\\n",
       "\t -1.6514169 &  1.0055995\\\\\n",
       "\t -0.3808323 &  1.6363899\\\\\n",
       "\t -0.8954544 & -0.8965873\\\\\n",
       "\t  0.3658627 & -1.6458518\\\\\n",
       "\t -1.2400089 &  1.0926359\\\\\n",
       "\t  0.9439927 & -2.8483426\\\\\n",
       "\t  0.6835877 & -2.2574513\\\\\n",
       "\t -1.9463339 &  0.7485015\\\\\n",
       "\t -0.1620345 & -0.1150225\\\\\n",
       "\t  0.5678770 & -1.6299402\\\\\n",
       "\t  0.2419501 & -1.0598300\\\\\n",
       "\t  0.6128706 &  0.3953119\\\\\n",
       "\t -0.6869206 &  1.7271524\\\\\n",
       "\t -2.1031772 &  0.2036933\\\\\n",
       "\t  0.1598221 & -1.4821284\\\\\n",
       "\\end{tabular}\n"
      ],
      "text/markdown": [
       "\n",
       "|  0.2019777 | -1.5308197 | \n",
       "| -1.6514169 |  1.0055995 | \n",
       "| -0.3808323 |  1.6363899 | \n",
       "| -0.8954544 | -0.8965873 | \n",
       "|  0.3658627 | -1.6458518 | \n",
       "| -1.2400089 |  1.0926359 | \n",
       "|  0.9439927 | -2.8483426 | \n",
       "|  0.6835877 | -2.2574513 | \n",
       "| -1.9463339 |  0.7485015 | \n",
       "| -0.1620345 | -0.1150225 | \n",
       "|  0.5678770 | -1.6299402 | \n",
       "|  0.2419501 | -1.0598300 | \n",
       "|  0.6128706 |  0.3953119 | \n",
       "| -0.6869206 |  1.7271524 | \n",
       "| -2.1031772 |  0.2036933 | \n",
       "|  0.1598221 | -1.4821284 | \n",
       "\n",
       "\n"
      ],
      "text/plain": [
       "      [,1]       [,2]      \n",
       " [1,]  0.2019777 -1.5308197\n",
       " [2,] -1.6514169  1.0055995\n",
       " [3,] -0.3808323  1.6363899\n",
       " [4,] -0.8954544 -0.8965873\n",
       " [5,]  0.3658627 -1.6458518\n",
       " [6,] -1.2400089  1.0926359\n",
       " [7,]  0.9439927 -2.8483426\n",
       " [8,]  0.6835877 -2.2574513\n",
       " [9,] -1.9463339  0.7485015\n",
       "[10,] -0.1620345 -0.1150225\n",
       "[11,]  0.5678770 -1.6299402\n",
       "[12,]  0.2419501 -1.0598300\n",
       "[13,]  0.6128706  0.3953119\n",
       "[14,] -0.6869206  1.7271524\n",
       "[15,] -2.1031772  0.2036933\n",
       "[16,]  0.1598221 -1.4821284"
      ]
     },
     "metadata": {},
     "output_type": "display_data"
    },
    {
     "data": {
      "image/png": "[encoded data removed]",
      "text/plain": [
       "plot without title"
      ]
     },
     "metadata": {},
     "output_type": "display_data"
    },
    {
     "data": {
      "image/png": "[encoded data removed]",
      "text/plain": [
       "Plot with title \"SVM classification plot\""
      ]
     },
     "metadata": {},
     "output_type": "display_data"
    }
   ],
   "source": [
    "set.seed(2018)\n",
    "#here we generate some data\n",
    "x <- rbind (mvrnorm (n/2, c(-2,-2), 3*diag(2)), mvrnorm (n/2, c(2,2), 3*diag(2)))\n",
    "y <- as.factor (rep (c(1,2), each = n/2))\n",
    "dat <- data.frame(x1 = x[,1] , x2 = x[,2], y)\n",
    "with(dat, plot(x1, x2, pch=20,col=y, asp=1))\n",
    "obj2 <- svm(y~x1+x2, data = dat, kernel = \"linear\", cost = 10000)\n",
    "summary(obj2)\n",
    "x[obj2$index,]\n",
    "plot(obj2, dat)"
   ]
  },
  {
   "cell_type": "code",
   "execution_count": 61,
   "metadata": {},
   "outputs": [
    {
     "data": {
      "text/plain": [
       "     ynew\n",
       "ypred  1  2\n",
       "    1 45  1\n",
       "    2  5 49"
      ]
     },
     "metadata": {},
     "output_type": "display_data"
    },
    {
     "data": {
      "text/html": [
       "0.06"
      ],
      "text/latex": [
       "0.06"
      ],
      "text/markdown": [
       "0.06"
      ],
      "text/plain": [
       "[1] 0.06"
      ]
     },
     "metadata": {},
     "output_type": "display_data"
    }
   ],
   "source": [
    "xnew <- rbind (mvrnorm (n/2, c(-2,-2), 3*diag(2)), mvrnorm (n/2, c(2,2), 3*diag(2)))\n",
    "ynew <- as.factor (rep (c(1,2), each = n/2))\n",
    "ypred <- predict(obj2, xnew)\n",
    "table (ypred, ynew)\n",
    "sum(ypred!=ynew)/n"
   ]
  },
  {
   "cell_type": "markdown",
   "metadata": {},
   "source": [
    "Here, the support vectors are the values which fall on the wrong side of the margin in the original optimsation problem. The optimsation problem has two objectives -- to minimise the cost for support vectors and maximise margin for non-support vectors.\n",
    "\n",
    "Decreasing the cost increases the number of support vectors, since the optimsation problem can afford to have more vectors on the wrong side of the margin.\n",
    "\n",
    "Increasing the cost to very large values, causes the decision boundary to minimise the number of support vectors.\n",
    "\n",
    "You can try other kernels, such as \"radial\", which uses the Gaussian kernel. Gaussian kernels have a tendency to overfit data -- in this case, the nonlinear boundary is almost entirely due to noise."
   ]
  },
  {
   "cell_type": "code",
   "execution_count": 68,
   "metadata": {},
   "outputs": [
    {
     "data": {
      "text/plain": [
       "     ynew\n",
       "ypred  1  2\n",
       "    1 39  0\n",
       "    2 11 50"
      ]
     },
     "metadata": {},
     "output_type": "display_data"
    },
    {
     "data": {
      "text/html": [
       "0.11"
      ],
      "text/latex": [
       "0.11"
      ],
      "text/markdown": [
       "0.11"
      ],
      "text/plain": [
       "[1] 0.11"
      ]
     },
     "metadata": {},
     "output_type": "display_data"
    },
    {
     "data": {
      "image/png": "[encoded data removed]",
      "text/plain": [
       "Plot with title \"SVM classification plot\""
      ]
     },
     "metadata": {},
     "output_type": "display_data"
    }
   ],
   "source": [
    "obj3 <- svm(y~x1+x2, data=dat, kernel = \"radial\", gamma = 1, cost = 1000)\n",
    "plot(obj3, dat)\n",
    "ypred <- predict(obj3, xnew)\n",
    "table(ypred, ynew) # check predicted labels\n",
    "sum(ynew != ypred)/n # prediction error\n",
    "# 0.13"
   ]
  },
  {
   "cell_type": "markdown",
   "metadata": {},
   "source": [
    "Let's try another dataset. Here, there is a non-linear decision boundary. Hence we try a gaussian kernel. In this case, we have two hyperparameters to tune -- the cost and the bandwith of the kernel. To find the optimal, we use a line search or grid search and the use cross validation.\n",
    "\n",
    "In this case, we use the tune function."
   ]
  },
  {
   "cell_type": "code",
   "execution_count": 73,
   "metadata": {},
   "outputs": [
    {
     "data": {
      "image/png": "[encoded data removed]",
      "text/plain": [
       "plot without title"
      ]
     },
     "metadata": {},
     "output_type": "display_data"
    }
   ],
   "source": [
    "library(ElemStatLearn)\n",
    "x <- mixture.example$x\n",
    "y <- as.factor(mixture.example$y)\n",
    "plot(x,pch=20, col=ifelse(y==0, 'orange', 'blue'))\n",
    "dat <- data.frame(x1 = x[,1] , x2 = x[,2], y)"
   ]
  },
  {
   "cell_type": "code",
   "execution_count": 74,
   "metadata": {},
   "outputs": [
    {
     "data": {
      "image/png": "[encoded data removed]",
      "text/plain": [
       "Plot with title \"SVM classification plot\""
      ]
     },
     "metadata": {},
     "output_type": "display_data"
    }
   ],
   "source": [
    "obj4 <- svm(y~x1+x2, data=dat, kernel='radial', cost=1000, gamma = 1)\n",
    "plot(obj4, dat)"
   ]
  },
  {
   "cell_type": "code",
   "execution_count": 76,
   "metadata": {
    "scrolled": true
   },
   "outputs": [
    {
     "data": {
      "text/plain": [
       "\n",
       "Parameter tuning of 'svm':\n",
       "\n",
       "- sampling method: 10-fold cross validation \n",
       "\n",
       "- best parameters:\n",
       " cost gamma\n",
       "    1    10\n",
       "\n",
       "- best performance: 0.16 \n",
       "\n",
       "- Detailed performance results:\n",
       "    cost gamma error dispersion\n",
       "1  1e-03 1e-03 0.505 0.17232076\n",
       "2  1e-02 1e-03 0.505 0.17232076\n",
       "3  1e-01 1e-03 0.505 0.17232076\n",
       "4  1e+00 1e-03 0.495 0.16906606\n",
       "5  1e+01 1e-03 0.280 0.11352924\n",
       "6  1e+02 1e-03 0.295 0.10916349\n",
       "7  1e+03 1e-03 0.290 0.10219806\n",
       "8  1e-03 1e-02 0.505 0.17232076\n",
       "9  1e-02 1e-02 0.505 0.17232076\n",
       "10 1e-01 1e-02 0.500 0.16996732\n",
       "11 1e+00 1e-02 0.280 0.11352924\n",
       "12 1e+01 1e-02 0.295 0.10394977\n",
       "13 1e+02 1e-02 0.305 0.10916349\n",
       "14 1e+03 1e-02 0.280 0.10327956\n",
       "15 1e-03 1e-01 0.515 0.15101508\n",
       "16 1e-02 1e-01 0.515 0.15101508\n",
       "17 1e-01 1e-01 0.285 0.11316163\n",
       "18 1e+00 1e-01 0.300 0.11547005\n",
       "19 1e+01 1e-01 0.275 0.09501462\n",
       "20 1e+02 1e-01 0.250 0.10000000\n",
       "21 1e+03 1e-01 0.205 0.09559754\n",
       "22 1e-03 1e+00 0.485 0.19010231\n",
       "23 1e-02 1e+00 0.485 0.19010231\n",
       "24 1e-01 1e+00 0.265 0.10013879\n",
       "25 1e+00 1e+00 0.200 0.08164966\n",
       "26 1e+01 1e+00 0.170 0.07527727\n",
       "27 1e+02 1e+00 0.185 0.07835106\n",
       "28 1e+03 1e+00 0.175 0.07168604\n",
       "29 1e-03 1e+01 0.475 0.20849993\n",
       "30 1e-02 1e+01 0.475 0.20849993\n",
       "31 1e-01 1e+01 0.460 0.20110804\n",
       "32 1e+00 1e+01 0.160 0.06146363\n",
       "33 1e+01 1e+01 0.225 0.07168604\n",
       "34 1e+02 1e+01 0.225 0.06346478\n",
       "35 1e+03 1e+01 0.270 0.06749486\n",
       "36 1e-03 1e+02 0.520 0.14567849\n",
       "37 1e-02 1e+02 0.520 0.14567849\n",
       "38 1e-01 1e+02 0.520 0.14567849\n",
       "39 1e+00 1e+02 0.335 0.09442810\n",
       "40 1e+01 1e+02 0.335 0.09143911\n",
       "41 1e+02 1e+02 0.335 0.08834906\n",
       "42 1e+03 1e+02 0.335 0.08834906\n",
       "43 1e-03 1e+03 0.560 0.07745967\n",
       "44 1e-02 1e+03 0.560 0.07745967\n",
       "45 1e-01 1e+03 0.560 0.07745967\n",
       "46 1e+00 1e+03 0.535 0.08514693\n",
       "47 1e+01 1e+03 0.520 0.08232726\n",
       "48 1e+02 1e+03 0.520 0.08232726\n",
       "49 1e+03 1e+03 0.520 0.08232726\n"
      ]
     },
     "metadata": {},
     "output_type": "display_data"
    }
   ],
   "source": [
    "tune.out <- tune(svm, y~x1+x2, data=dat, kernel='radial',\n",
    "ranges = list(cost=10^c((-3):3), gamma=10^c((-3):3)))\n",
    "summary(tune.out)\n"
   ]
  },
  {
   "cell_type": "markdown",
   "metadata": {},
   "source": [
    "Finally, we can try a more complicated dataset such as MNIST.\n",
    "\n",
    "Note that in this case, we have multiple classes. So we use the most common classification between all the possible pairs of comparisons."
   ]
  },
  {
   "cell_type": "code",
   "execution_count": 77,
   "metadata": {},
   "outputs": [
    {
     "data": {
      "text/plain": [
       "   pred\n",
       "      0   1   2   3   4   5   6   7   8   9\n",
       "  0 209   0   1   0   1   0   1   0   1   0\n",
       "  1   0 220   4   1   1   0   0   0   0   1\n",
       "  2   1   1 170   5   2   1   0   0   4   0\n",
       "  3   0   2  13 193   0   3   0   2   2   1\n",
       "  4   0   0   7   0 179   0   1   0   0   6\n",
       "  5   1   1   9   3   1 142   4   1   0   2\n",
       "  6   0   0  17   0   0   3 181   0   2   0\n",
       "  7   1   0  15   0   4   0   0 182   0  16\n",
       "  8   2   2  11   1   2   2   5   1 151   1\n",
       "  9   1   0   3   2   6   0   0   5   0 187"
      ]
     },
     "metadata": {},
     "output_type": "display_data"
    },
    {
     "data": {
      "text/html": [
       "0.093"
      ],
      "text/latex": [
       "0.093"
      ],
      "text/markdown": [
       "0.093"
      ],
      "text/plain": [
       "[1] 0.093"
      ]
     },
     "metadata": {},
     "output_type": "display_data"
    }
   ],
   "source": [
    "filePath <- \"http://www.statslab.cam.ac.uk/~tw389/teaching/SLP18/data/\"\n",
    "fileName <- \"mnist.csv\"\n",
    "mnist <- read.csv(paste0(filePath, fileName), header = TRUE)\n",
    "mnist$digit <- as.factor(mnist$digit)\n",
    "train <- mnist[1:4000,]\n",
    "identical <- apply(train, 2, function(v){all(v==v[1])})\n",
    "train <- train[,!identical] # remove redundant pixels\n",
    "test <- mnist[4001:6000,!identical]\n",
    "mnist.svm <- svm(digit~., data = train, kernel = \"radial\") # this can be slow\n",
    "pred <- predict(mnist.svm, test)\n",
    "table(test$digit, pred) # confusion matrix\n",
    "sum(test$digit != pred) / 2000 # test error\n",
    "# 0.095\n"
   ]
  },
  {
   "cell_type": "code",
   "execution_count": null,
   "metadata": {
    "collapsed": true
   },
   "outputs": [],
   "source": []
  }
 ],
 "metadata": {
  "kernelspec": {
   "display_name": "R",
   "language": "R",
   "name": "ir"
  },
  "language_info": {
   "codemirror_mode": "r",
   "file_extension": ".r",
   "mimetype": "text/x-r-source",
   "name": "R",
   "pygments_lexer": "r",
   "version": "3.4.3"
  }
 },
 "nbformat": 4,
 "nbformat_minor": 2
}
