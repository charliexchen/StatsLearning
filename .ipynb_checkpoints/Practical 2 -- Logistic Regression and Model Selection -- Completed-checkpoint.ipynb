{
 "cells": [
  {
   "cell_type": "code",
   "execution_count": 6,
   "metadata": {},
   "outputs": [
    {
     "data": {
      "text/html": [
       "<table>\n",
       "<thead><tr><th scope=col>seed</th><th scope=col>extract</th><th scope=col>y</th><th scope=col>n</th></tr></thead>\n",
       "<tbody>\n",
       "\t<tr><td>A </td><td>1 </td><td>10</td><td>39</td></tr>\n",
       "\t<tr><td>A </td><td>1 </td><td>23</td><td>62</td></tr>\n",
       "\t<tr><td>A </td><td>1 </td><td>23</td><td>81</td></tr>\n",
       "\t<tr><td>A </td><td>1 </td><td>26</td><td>51</td></tr>\n",
       "\t<tr><td>A </td><td>1 </td><td>17</td><td>39</td></tr>\n",
       "\t<tr><td>A </td><td>2 </td><td> 5</td><td> 6</td></tr>\n",
       "</tbody>\n",
       "</table>\n"
      ],
      "text/latex": [
       "\\begin{tabular}{r|llll}\n",
       " seed & extract & y & n\\\\\n",
       "\\hline\n",
       "\t A  & 1  & 10 & 39\\\\\n",
       "\t A  & 1  & 23 & 62\\\\\n",
       "\t A  & 1  & 23 & 81\\\\\n",
       "\t A  & 1  & 26 & 51\\\\\n",
       "\t A  & 1  & 17 & 39\\\\\n",
       "\t A  & 2  &  5 &  6\\\\\n",
       "\\end{tabular}\n"
      ],
      "text/markdown": [
       "\n",
       "seed | extract | y | n | \n",
       "|---|---|---|---|---|---|\n",
       "| A  | 1  | 10 | 39 | \n",
       "| A  | 1  | 23 | 62 | \n",
       "| A  | 1  | 23 | 81 | \n",
       "| A  | 1  | 26 | 51 | \n",
       "| A  | 1  | 17 | 39 | \n",
       "| A  | 2  |  5 |  6 | \n",
       "\n",
       "\n"
      ],
      "text/plain": [
       "  seed extract y  n \n",
       "1 A    1       10 39\n",
       "2 A    1       23 62\n",
       "3 A    1       23 81\n",
       "4 A    1       26 51\n",
       "5 A    1       17 39\n",
       "6 A    2        5  6"
      ]
     },
     "metadata": {},
     "output_type": "display_data"
    },
    {
     "data": {
      "text/html": [
       "TRUE"
      ],
      "text/latex": [
       "TRUE"
      ],
      "text/markdown": [
       "TRUE"
      ],
      "text/plain": [
       "[1] TRUE"
      ]
     },
     "metadata": {},
     "output_type": "display_data"
    },
    {
     "data": {
      "text/html": [
       "<table>\n",
       "<thead><tr><th scope=col>seed</th><th scope=col>extract</th><th scope=col>y</th><th scope=col>n</th><th scope=col>prop</th></tr></thead>\n",
       "<tbody>\n",
       "\t<tr><td>A        </td><td>1        </td><td>10       </td><td>39       </td><td>0.2564103</td></tr>\n",
       "\t<tr><td>A        </td><td>1        </td><td>23       </td><td>62       </td><td>0.3709677</td></tr>\n",
       "\t<tr><td>A        </td><td>1        </td><td>23       </td><td>81       </td><td>0.2839506</td></tr>\n",
       "\t<tr><td>A        </td><td>1        </td><td>26       </td><td>51       </td><td>0.5098039</td></tr>\n",
       "\t<tr><td>A        </td><td>1        </td><td>17       </td><td>39       </td><td>0.4358974</td></tr>\n",
       "\t<tr><td>A        </td><td>2        </td><td> 5       </td><td> 6       </td><td>0.8333333</td></tr>\n",
       "</tbody>\n",
       "</table>\n"
      ],
      "text/latex": [
       "\\begin{tabular}{r|lllll}\n",
       " seed & extract & y & n & prop\\\\\n",
       "\\hline\n",
       "\t A         & 1         & 10        & 39        & 0.2564103\\\\\n",
       "\t A         & 1         & 23        & 62        & 0.3709677\\\\\n",
       "\t A         & 1         & 23        & 81        & 0.2839506\\\\\n",
       "\t A         & 1         & 26        & 51        & 0.5098039\\\\\n",
       "\t A         & 1         & 17        & 39        & 0.4358974\\\\\n",
       "\t A         & 2         &  5        &  6        & 0.8333333\\\\\n",
       "\\end{tabular}\n"
      ],
      "text/markdown": [
       "\n",
       "seed | extract | y | n | prop | \n",
       "|---|---|---|---|---|---|\n",
       "| A         | 1         | 10        | 39        | 0.2564103 | \n",
       "| A         | 1         | 23        | 62        | 0.3709677 | \n",
       "| A         | 1         | 23        | 81        | 0.2839506 | \n",
       "| A         | 1         | 26        | 51        | 0.5098039 | \n",
       "| A         | 1         | 17        | 39        | 0.4358974 | \n",
       "| A         | 2         |  5        |  6        | 0.8333333 | \n",
       "\n",
       "\n"
      ],
      "text/plain": [
       "  seed extract y  n  prop     \n",
       "1 A    1       10 39 0.2564103\n",
       "2 A    1       23 62 0.3709677\n",
       "3 A    1       23 81 0.2839506\n",
       "4 A    1       26 51 0.5098039\n",
       "5 A    1       17 39 0.4358974\n",
       "6 A    2        5  6 0.8333333"
      ]
     },
     "metadata": {},
     "output_type": "display_data"
    }
   ],
   "source": [
    "filePath <- \"http://www.statslab.cam.ac.uk/~tw389/teaching/SLP18/data/\"\n",
    "fileName <- \"seeds\"\n",
    "seeds <- read.table(paste0(filePath, fileName), header = T)\n",
    "head(seeds)\n",
    "seeds <- cbind(seeds , prop = seeds$y/seeds$n)\n",
    "attach (seeds)\n",
    "is.factor(seed)\n",
    "seeds$extract <- as.factor(seeds$extract)\n",
    "head(seeds)"
   ]
  },
  {
   "cell_type": "code",
   "execution_count": 9,
   "metadata": {},
   "outputs": [
    {
     "data": {
      "image/png": "[encoded data removed]",
      "text/plain": [
       "plot without title"
      ]
     },
     "metadata": {},
     "output_type": "display_data"
    },
    {
     "data": {
      "image/png": "[encoded data removed]",
      "text/plain": [
       "plot without title"
      ]
     },
     "metadata": {},
     "output_type": "display_data"
    }
   ],
   "source": [
    "plot.design(prop ~ seed*extract, data=seeds)\n",
    "interaction.plot(seed, extract, prop)"
   ]
  },
  {
   "cell_type": "code",
   "execution_count": 11,
   "metadata": {},
   "outputs": [
    {
     "data": {
      "text/plain": [
       "\n",
       "Call:\n",
       "glm(formula = prop ~ seed * extract, family = binomial, data = seeds, \n",
       "    weights = n)\n",
       "\n",
       "Deviance Residuals: \n",
       "     Min        1Q    Median        3Q       Max  \n",
       "-2.01617  -1.24398   0.05995   0.84695   2.12123  \n",
       "\n",
       "Coefficients:\n",
       "               Estimate Std. Error z value Pr(>|z|)    \n",
       "(Intercept)     -0.5582     0.1260  -4.429 9.46e-06 ***\n",
       "seedB            0.1459     0.2232   0.654   0.5132    \n",
       "extract2         1.3182     0.1775   7.428 1.10e-13 ***\n",
       "seedB:extract2  -0.7781     0.3064  -2.539   0.0111 *  \n",
       "---\n",
       "Signif. codes:  0 '***' 0.001 '**' 0.01 '*' 0.05 '.' 0.1 ' ' 1\n",
       "\n",
       "(Dispersion parameter for binomial family taken to be 1)\n",
       "\n",
       "    Null deviance: 98.719  on 20  degrees of freedom\n",
       "Residual deviance: 33.278  on 17  degrees of freedom\n",
       "AIC: 117.87\n",
       "\n",
       "Number of Fisher Scoring iterations: 4\n"
      ]
     },
     "metadata": {},
     "output_type": "display_data"
    }
   ],
   "source": [
    "seed.glm1 <- glm(prop~seed*extract, family=binomial, weights = n, data = seeds)\n",
    "summary(seed.glm1)"
   ]
  }
 ],
 "metadata": {
  "kernelspec": {
   "display_name": "R",
   "language": "R",
   "name": "ir"
  },
  "language_info": {
   "codemirror_mode": "r",
   "file_extension": ".r",
   "mimetype": "text/x-r-source",
   "name": "R",
   "pygments_lexer": "r",
   "version": "3.4.3"
  }
 },
 "nbformat": 4,
 "nbformat_minor": 2
}
